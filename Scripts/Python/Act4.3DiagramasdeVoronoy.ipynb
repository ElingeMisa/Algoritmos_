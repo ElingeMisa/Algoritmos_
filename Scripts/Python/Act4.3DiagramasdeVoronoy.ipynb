{
 "cells": [
  {
   "cell_type": "markdown",
   "metadata": {},
   "source": [
    "# Actividad 4.3 Diagramas de voronoy\n",
    "**Victor Misael Escalante Alvarado**"
   ]
  },
  {
   "cell_type": "code",
   "execution_count": 4,
   "metadata": {},
   "outputs": [],
   "source": [
    "\n",
    "import numpy as np\n",
    "import matplotlib.pyplot as plt\n",
    "import math\n"
   ]
  },
  {
   "cell_type": "markdown",
   "metadata": {},
   "source": [
    "## Funciones y codigo Previo"
   ]
  },
  {
   "cell_type": "markdown",
   "metadata": {},
   "source": [
    "### Clases Usaddas para la triangulacion"
   ]
  },
  {
   "cell_type": "code",
   "execution_count": 3,
   "metadata": {},
   "outputs": [],
   "source": [
    "# Clase para los puntos\n",
    "class Punto:\n",
    "    def __init__(self, x, y):\n",
    "        self.x = x\n",
    "        self.y = y\n",
    "\n",
    "    def show(self):\n",
    "        return [self.x, self.y]\n",
    "\n",
    "# Clase para los segmentos\n",
    "class Segmento:\n",
    "    def __init__(self, A, B):\n",
    "        # Asegura que el punto A sea siempre menor que B por consistencia\n",
    "        if A.x < B.x or (A.x == B.x and A.y < B.y):\n",
    "            self.A = A\n",
    "            self.B = B\n",
    "        else:\n",
    "            self.A = B\n",
    "            self.B = A\n",
    "\n",
    "    def show(self):\n",
    "        return [self.A.x, self.A.y, self.B.x, self.B.y]\n",
    "\n",
    "    # Comprueba la igualdad entre dos segmentos en función de sus extremos\n",
    "    def __eq__(self, other):\n",
    "        return self.A == other.A and self.B == other.B\n",
    "\n",
    "    # Genera un hash en función de los extremos\n",
    "    def __hash__(self):\n",
    "        return hash((self.A.x, self.A.y, self.B.x, self.B.y))\n",
    "\n",
    "# Clase para los triángulos\n",
    "class Triangulo:\n",
    "    def __init__(self, puntos):\n",
    "        self.puntos = puntos  # Lista de tres instancias de Punto\n",
    "        self.lados = [Segmento(puntos[0], puntos[1]),\n",
    "                      Segmento(puntos[1], puntos[2]),\n",
    "                      Segmento(puntos[2], puntos[0])]\n"
   ]
  },
  {
   "cell_type": "markdown",
   "metadata": {},
   "source": [
    "### Funciones de la tarea anterior"
   ]
  },
  {
   "cell_type": "code",
   "execution_count": 2,
   "metadata": {},
   "outputs": [],
   "source": [
    "\n",
    "\n",
    "# Calcula circuncentro y circunradio\n",
    "def calcular_circuncentro_y_radio(p1, p2, p3):\n",
    "    D = 2 * (p1.x * (p2.y - p3.y) + p2.x * (p3.y - p1.y) + p3.x * (p1.y - p2.y))\n",
    "\n",
    "    if D == 0: # Un determinante de 0 indica que no hay circumferencia\n",
    "        return None, None\n",
    "\n",
    "    # Circuncentro\n",
    "    Ux = ((p1.x**2 + p1.y**2) * (p2.y - p3.y) +\n",
    "          (p2.x**2 + p2.y**2) * (p3.y - p1.y) +\n",
    "          (p3.x**2 + p3.y**2) * (p1.y - p2.y)) / D\n",
    "    Uy = ((p1.x**2 + p1.y**2) * (p3.x - p2.x) +\n",
    "          (p2.x**2 + p2.y**2) * (p1.x - p3.x) +\n",
    "          (p3.x**2 + p3.y**2) * (p2.x - p1.x)) / D\n",
    "\n",
    "    # Circunradio\n",
    "    radio = math.sqrt((Ux - p1.x)**2 + (Uy - p1.y)**2)\n",
    "\n",
    "    return Punto(Ux, Uy), radio\n",
    "\n",
    "# Verifica si un punto está dentro o sobre una circunferencia\n",
    "def punto_dentro_circunferencia(punto, centro, radio):\n",
    "    distancia = math.sqrt((centro.x - punto.x)**2 + (centro.y - punto.y)**2) # Distancia del punto al circuncentro\n",
    "    return distancia <= radio  # Retorna True si está dentro del radio\n",
    "\n",
    "# Función para graficar\n",
    "def graficar_triangulos_y_puntos(puntos, triangulos):\n",
    "    fig, ax = plt.subplots()\n",
    "    ax.set_aspect('equal')\n",
    "\n",
    "    for triangulo in triangulos:\n",
    "        x_values = [punto.x for punto in triangulo.puntos] + [triangulo.puntos[0].x]\n",
    "        y_values = [punto.y for punto in triangulo.puntos] + [triangulo.puntos[0].y]\n",
    "        ax.plot(x_values, y_values, 'k-')\n",
    "\n",
    "    for punto in puntos:\n",
    "        ax.plot(punto.x, punto.y, 'bo')\n",
    "\n",
    "    ax.set_xlabel('Eje X')\n",
    "    ax.set_ylabel('Eje Y')\n",
    "    plt.show()\n",
    "\n",
    "# Implementa la triangulación de Delaunay por fuerza bruta\n",
    "def triangulacion_delaunay(puntos):\n",
    "    triangulos = []  # Lista para almacenar los triángulos de Delaunay\n",
    "\n",
    "    # Itera sobre todos los tripletes únicos de puntos\n",
    "    for i in range(len(puntos)):\n",
    "        for j in range(i + 1, len(puntos)):\n",
    "            for k in range(j + 1, len(puntos)):\n",
    "                p1, p2, p3 = puntos[i], puntos[j], puntos[k]\n",
    "                centro, radio = calcular_circuncentro_y_radio(p1, p2, p3)\n",
    "\n",
    "                if centro is None:\n",
    "                    continue  # Omitir si los puntos son colineales\n",
    "\n",
    "                # Verifica si algún otro punto está dentro de esta circunferencia\n",
    "                es_delaunay = all(not punto_dentro_circunferencia(p, centro, radio)\n",
    "                                  for p in puntos if p not in [p1, p2, p3])\n",
    "\n",
    "                # Si es True, este triángulo cumple con la condición de Delaunay\n",
    "                if es_delaunay:\n",
    "                    triangulos.append(Triangulo([p1, p2, p3]))\n",
    "\n",
    "    return triangulos\n",
    "\n",
    "# Lectura de archivos\n",
    "def cargar_puntos(archivo):\n",
    "    puntos = []\n",
    "    with open(archivo, 'r') as file:\n",
    "        num_points = int(file.readline().strip())\n",
    "        for line in file:\n",
    "            x, y = map(float, line.strip().split())\n",
    "            puntos.append(Punto(x, y))\n",
    "    return puntos\n"
   ]
  },
  {
   "cell_type": "markdown",
   "metadata": {},
   "source": [
    "### Codigo de la triangulacion"
   ]
  },
  {
   "cell_type": "code",
   "execution_count": 5,
   "metadata": {},
   "outputs": [],
   "source": [
    "\n",
    "# ---- Inicio del código ---- #\n",
    "prefix = \"/Users/misa_v/Library/CloudStorage/OneDrive-InstitutoTecnologicoydeEstudiosSuperioresdeMonterrey/Sem 5/Algoritmos_/Scripts/Python/txt/\"\n",
    "archivos = ['puntos-n8.txt', 'puntos-n10.txt', 'puntos-n11.txt',\n",
    "            'puntos-n15.txt', 'puntos-n16.txt', 'puntos-n20.txt',\n",
    "            'puntos-n50.txt', 'puntos-n100.txt']\n",
    "\n",
    "for archivo in archivos:\n",
    "    puntos = cargar_puntos(prefix + archivo)\n",
    "    triangulos = triangulacion_delaunay(puntos)\n",
    "    ##graficar_triangulos_y_puntos(puntos, triangulos)\n"
   ]
  },
  {
   "cell_type": "markdown",
   "metadata": {},
   "source": [
    "## Diagramas de Voronoy"
   ]
  },
  {
   "cell_type": "code",
   "execution_count": null,
   "metadata": {},
   "outputs": [],
   "source": []
  }
 ],
 "metadata": {
  "kernelspec": {
   "display_name": ".venv",
   "language": "python",
   "name": "python3"
  },
  "language_info": {
   "codemirror_mode": {
    "name": "ipython",
    "version": 3
   },
   "file_extension": ".py",
   "mimetype": "text/x-python",
   "name": "python",
   "nbconvert_exporter": "python",
   "pygments_lexer": "ipython3",
   "version": "3.12.5"
  }
 },
 "nbformat": 4,
 "nbformat_minor": 2
}
