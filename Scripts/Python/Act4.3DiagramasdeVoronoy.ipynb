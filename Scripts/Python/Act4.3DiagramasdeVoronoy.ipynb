{
 "cells": [
  {
   "cell_type": "markdown",
   "metadata": {},
   "source": [
    "# Actividad 4.3 Diagramas de voronoy\n",
    "**Victor Misael Escalante Alvarado**"
   ]
  },
  {
   "cell_type": "code",
   "execution_count": 22,
   "metadata": {},
   "outputs": [],
   "source": [
    "\n",
    "import numpy as np\n",
    "import matplotlib.pyplot as plt\n",
    "import math\n",
    "from scipy.spatial import Voronoi\n",
    "import scipy.spatial as spatial\n",
    "import random\n",
    "import scipy\n",
    "from scipy.spatial import Voronoi, voronoi_plot_2d\n",
    "from matplotlib.patches import Polygon\n",
    "from collections import defaultdict\n",
    "from shapely.geometry import LineString, Polygon"
   ]
  },
  {
   "cell_type": "markdown",
   "metadata": {},
   "source": [
    "## Funciones y codigo Previo"
   ]
  },
  {
   "cell_type": "markdown",
   "metadata": {},
   "source": [
    "### Clases Usaddas para la triangulacion"
   ]
  },
  {
   "cell_type": "code",
   "execution_count": 23,
   "metadata": {},
   "outputs": [],
   "source": [
    "# Clase para los puntos\n",
    "class Punto:\n",
    "    def __init__(self, x, y):\n",
    "        self.x = x\n",
    "        self.y = y\n",
    "\n",
    "    def show(self):\n",
    "        return [self.x, self.y]\n",
    "    \n",
    "class PuntoConNombre:\n",
    "    def __init__(self, name, x, y):\n",
    "        self.name = name\n",
    "        self.x = x\n",
    "        self.y = y\n",
    "\n",
    "    def show(self):\n",
    "        return [self.name, self.x, self.y]\n",
    "\n",
    "# Clase para los segmentos\n",
    "class Segmento:\n",
    "    def __init__(self, A, B):\n",
    "        self.A = A\n",
    "        self.B = B\n",
    "\n",
    "    def show(self):\n",
    "        return [self.A.x, self.A.y, self.B.x, self.B.y]\n",
    "\n",
    "# Clase para los triángulos\n",
    "class Triangulo:\n",
    "    def __init__(self, puntos):\n",
    "        self.puntos = puntos\n",
    "        self.circuncentro, self.circunradio = calcular_circuncentro_y_radio(*puntos)"
   ]
  },
  {
   "cell_type": "markdown",
   "metadata": {},
   "source": [
    "### Funciones de la tarea anterior"
   ]
  },
  {
   "cell_type": "code",
   "execution_count": 24,
   "metadata": {},
   "outputs": [],
   "source": [
    "# Calcula circuncentro y circunradio\n",
    "# Calcula circuncentro y radio\n",
    "def calcular_circuncentro_y_radio(p1, p2, p3):\n",
    "    ax, ay = p1.x, p1.y\n",
    "    bx, by = p2.x, p2.y\n",
    "    cx, cy = p3.x, p3.y\n",
    "    d = 2 * (ax * (by - cy) + bx * (cy - ay) + cx * (ay - by))\n",
    "    if d == 0:\n",
    "        return None, None  # Los puntos son colineales\n",
    "    ux = ((ax**2 + ay**2) * (by - cy) + (bx**2 + by**2) * (cy - ay) + (cx**2 + cy**2) * (ay - by)) / d\n",
    "    uy = ((ax**2 + ay**2) * (cx - bx) + (bx**2 + by**2) * (ax - cx) + (cx**2 + cy**2) * (bx - ax)) / d\n",
    "    \n",
    "    circuncentro = Punto(ux, uy)\n",
    "    \n",
    "    radio = np.sqrt((ux - ax)**2 + (uy - ay)**2)\n",
    "    \n",
    "    return circuncentro, radio\n",
    "\n",
    "# Verifica si un punto está dentro o sobre una circunferencia\n",
    "def punto_dentro_circunferencia(punto, centro, radio):\n",
    "    distancia = math.sqrt((centro.x - punto.x)**2 + (centro.y - punto.y)**2) # Distancia del punto al circuncentro\n",
    "    return distancia <= radio  # Retorna True si está dentro del radio\n",
    "\n",
    "\n",
    "def triangulacion_delaunay(puntos):\n",
    "    triangulos = []\n",
    "    for i in range(len(puntos)):\n",
    "        for j in range(i + 1, len(puntos)):\n",
    "            for k in range(j + 1, len(puntos)):\n",
    "                p1, p2, p3 = puntos[i], puntos[j], puntos[k]\n",
    "                centro, radio = calcular_circuncentro_y_radio(p1, p2, p3)\n",
    "                if centro is None:\n",
    "                    continue\n",
    "                es_delaunay = all(math.sqrt((centro.x - p.x)**2 + (centro.y - p.y)**2) >= radio for p in puntos if p not in [p1, p2, p3])\n",
    "                if es_delaunay:\n",
    "                    triangulos.append(Triangulo([p1, p2, p3]))\n",
    "    return triangulos\n",
    "\n"
   ]
  },
  {
   "cell_type": "markdown",
   "metadata": {},
   "source": [
    "### Funciones para graficar"
   ]
  },
  {
   "cell_type": "code",
   "execution_count": 25,
   "metadata": {},
   "outputs": [],
   "source": [
    "# Funcines para graficar\n",
    "def graficar_triangulos_y_puntos(puntos, triangulos, deaths):\n",
    "    fig, ax = plt.subplots()\n",
    "    ax.set_aspect('equal')\n",
    "\n",
    "    for triangulo in triangulos:\n",
    "        x_values = [punto.x for punto in triangulo.puntos] + [triangulo.puntos[0].x]\n",
    "        y_values = [punto.y for punto in triangulo.puntos] + [triangulo.puntos[0].y]\n",
    "        ax.plot(x_values, y_values, 'k-')\n",
    "\n",
    "    for punto in puntos:\n",
    "        ax.plot(punto.x, punto.y, 'bo')\n",
    "        ax.text(punto.x, punto.y, punto.name, fontsize=12, ha='right')\n",
    "    \n",
    "    for death in deaths:\n",
    "        ax.plot(death.x, death.y, 'ro')\n",
    "\n",
    "    ax.set_xlabel('Eje X')\n",
    "    ax.set_ylabel('Eje Y')\n",
    "    \n",
    "    # Establecer límites de la gráfica\n",
    "    ax.set_xlim(min(punto.x for punto in puntos) - 0.001, max(punto.x for punto in puntos) + 0.001)\n",
    "    ax.set_ylim(min(punto.y for punto in puntos) - 0.001, max(punto.y for punto in puntos) + 0.001)\n",
    "    plt.show()"
   ]
  },
  {
   "cell_type": "markdown",
   "metadata": {},
   "source": [
    "### Funciones para cargar archivos"
   ]
  },
  {
   "cell_type": "code",
   "execution_count": 26,
   "metadata": {},
   "outputs": [],
   "source": [
    "# Lectura de archivos\n",
    "def cargar_puntos(archivo):\n",
    "    puntos = []\n",
    "    with open(archivo, 'r') as file:\n",
    "        num_points = int(file.readline().strip())\n",
    "        for line in file:\n",
    "            x, y = map(float, line.strip().split())\n",
    "            puntos.append(Punto(x, y))\n",
    "    return puntos\n",
    "\n",
    "def cargar_puntos_name(archivo):\n",
    "    puntos = []\n",
    "    with open(archivo, 'r') as file:\n",
    "        # ignoarmoa la primera linea\n",
    "        file.readline()\n",
    "        for line in file:\n",
    "            name, x, y = line.strip().split(',')\n",
    "            puntos.append(PuntoConNombre(name, float(x), float(y)))\n",
    "    return puntos\n",
    "\n",
    "def cargar_deaths(archivo):\n",
    "    puntos = []\n",
    "    with open(archivo, 'r') as file:\n",
    "        # ignoarmoa la primera linea\n",
    "        file.readline()\n",
    "        for line in file:\n",
    "            name, x, y = line.strip().split(',')\n",
    "            puntos.append(Punto(float(x), float(y)))\n",
    "    return puntos"
   ]
  },
  {
   "cell_type": "markdown",
   "metadata": {},
   "source": [
    "## Funciones y Codigo para el diagrama de voronoi"
   ]
  },
  {
   "cell_type": "markdown",
   "metadata": {},
   "source": [
    "### Funciones nuevas partiendo de una triangulacion"
   ]
  },
  {
   "cell_type": "markdown",
   "metadata": {},
   "source": [
    "**Tomada de la dualidad de la triangulacion de delaunay (incrementaal)**"
   ]
  },
  {
   "cell_type": "code",
   "execution_count": null,
   "metadata": {},
   "outputs": [],
   "source": []
  },
  {
   "cell_type": "markdown",
   "metadata": {},
   "source": [
    "**Mismo algoritmo de fortune pero con la libreria**"
   ]
  },
  {
   "cell_type": "markdown",
   "metadata": {},
   "source": [
    "### grafica pero mas de cerca"
   ]
  },
  {
   "cell_type": "code",
   "execution_count": 27,
   "metadata": {},
   "outputs": [],
   "source": [
    "def graficar_diagrama_voronoi(puntos, segmentos_voronoi):\n",
    "    fig, ax = plt.subplots(figsize=(6, 8))\n",
    "\n",
    "    # Dibujar puntos de la ciudad (excluyendo los puntos límite)\n",
    "    for punto in puntos:\n",
    "        ax.plot(punto.x, punto.y, 'bo')  # Puntos en azul\n",
    "        ax.text(punto.x, punto.y, f'{punto.x:.5f}, {punto.y:.5f}', fontsize=8, ha='right')\n",
    "\n",
    "\n",
    "    # Dibujar segmentos de Voronoi\n",
    "    for segmento in segmentos_voronoi:\n",
    "        (p1, p2) = segmento\n",
    "        ax.plot([p1.x, p2.x], [p1.y, p2.y], 'k-', lw=1)  # Segmentos en negro\n",
    "\n",
    "    # Dibujar el super cuadrado como borde\n",
    "    \n",
    "    \n",
    "\n",
    "    # Configurar ejes y mostrar el gráfico\n",
    "    ax.set_xlabel(\"Eje X\")\n",
    "    ax.set_ylabel(\"Eje Y\")\n",
    "    ax.set_aspect('equal', adjustable='box')\n",
    "    # Establecer límites de la gráfica\n",
    "    ax.set_xlim(min(punto.x for punto in puntos) - 0.01, max(punto.x for punto in puntos) + 0.01)\n",
    "    ax.set_ylim(min(punto.y for punto in puntos) - 0.01, max(punto.y for punto in puntos) + 0.01)\n",
    "    plt.show()\n"
   ]
  },
  {
   "cell_type": "markdown",
   "metadata": {},
   "source": [
    "### Codigo de la triangulacion y dagrama"
   ]
  },
  {
   "cell_type": "code",
   "execution_count": 28,
   "metadata": {},
   "outputs": [
    {
     "data": {
      "image/png": "[encoded data removed]",
      "text/plain": [
       "<Figure size 640x480 with 1 Axes>"
      ]
     },
     "metadata": {},
     "output_type": "display_data"
    }
   ],
   "source": [
    "\n",
    "# ---- Inicio del código ---- #\n",
    "# nombre del archivo\n",
    "archivo_pumps = \"/Users/misa_v/Library/CloudStorage/OneDrive-InstitutoTecnologicoydeEstudiosSuperioresdeMonterrey/Sem 5/Algoritmos_/Scripts/Python/pumps.csv\"\n",
    "archivo_deaths = \"/Users/misa_v/Library/CloudStorage/OneDrive-InstitutoTecnologicoydeEstudiosSuperioresdeMonterrey/Sem 5/Algoritmos_/Scripts/Python/deaths.csv\"\n",
    "\n",
    "\n",
    "\n",
    "puntos_name = cargar_puntos_name(archivo_pumps)\n",
    "puntos_deaths = cargar_deaths(archivo_deaths)\n",
    "\n",
    "#iniciamos los puntos con los limites de la ciudad\n",
    "\n",
    "#puntos = [Punto(0,-0.140), Punto(0,-0.130), Punto(0.006,-0.140)]\n",
    "puntos = []\n",
    "for punto in puntos_name:\n",
    "    puntos.append(Punto(punto.x, punto.y))\n",
    "\n",
    "triangulos = triangulacion_delaunay(puntos)\n",
    "\n",
    "\n",
    "graficar_triangulos_y_puntos(puntos_name, triangulos, puntos_deaths)\n",
    "\n",
    "# Crear puntos límite para el super cuadrado\n",
    "\n",
    "\n",
    "\n"
   ]
  }
 ],
 "metadata": {
  "kernelspec": {
   "display_name": ".venv",
   "language": "python",
   "name": "python3"
  },
  "language_info": {
   "codemirror_mode": {
    "name": "ipython",
    "version": 3
   },
   "file_extension": ".py",
   "mimetype": "text/x-python",
   "name": "python",
   "nbconvert_exporter": "python",
   "pygments_lexer": "ipython3",
   "version": "3.12.5"
  }
 },
 "nbformat": 4,
 "nbformat_minor": 2
}
