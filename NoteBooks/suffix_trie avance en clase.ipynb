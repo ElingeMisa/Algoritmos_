{
  "nbformat": 4,
  "nbformat_minor": 0,
  "metadata": {
    "colab": {
      "provenance": []
    },
    "kernelspec": {
      "name": "python3",
      "display_name": "Python 3"
    },
    "language_info": {
      "name": "python"
    }
  },
  "cells": [
    {
      "cell_type": "markdown",
      "source": [
        "#Clase Nodo\n",
        "\n",
        "Atributos:\n",
        "* el caracter del nodo\n",
        "* lista de indices donde aparece\n",
        "* si es o no un nodo final\n",
        "* nivel\n",
        "* lista de nodos hijos"
      ],
      "metadata": {
        "id": "QnQzwKPlKoGQ"
      }
    },
    {
      "cell_type": "code",
      "execution_count": 41,
      "metadata": {
        "id": "SMDPW-bVKhgK"
      },
      "outputs": [],
      "source": [
        "class Nodo:\n",
        "  def __init__ ( self, caracter, final ):\n",
        "    self.caracter = caracter\n",
        "    self.indices = []\n",
        "    self.es_final = final\n",
        "    self.level = 0\n",
        "\n",
        "    self.hijos = []"
      ]
    },
    {
      "cell_type": "markdown",
      "source": [
        "#Clase Trie"
      ],
      "metadata": {
        "id": "GMZussxWSDyh"
      }
    },
    {
      "cell_type": "code",
      "source": [],
      "metadata": {
        "id": "ibEO6avfYQa0"
      },
      "execution_count": 41,
      "outputs": []
    },
    {
      "cell_type": "code",
      "source": [
        "# la clase del arbol.\n",
        "# Su unico atributo es el nodo raiz\n",
        "class Trie:\n",
        "  def __init__ (self ):\n",
        "    self.raiz = Nodo(\"#\", False)\n",
        "\n",
        "  # Nota que esta funcion pertenece a la clase trie,\n",
        "  # por ser una funcionalidad del arbol\n",
        "  def insertar(self, nodo, cadena, i, og_i):\n",
        "\n",
        "    # Revisa si i es menor a la longuitud de la cadena....\n",
        "    m = len(cadena)\n",
        "\n",
        "    if i < m:\n",
        "    # Revisa si algun hijo del nodo actual coincide con el caracter indice actual\n",
        "    # De ser asi, agrega el indice real del caracter a los indices del nodo hijo\n",
        "      for hijo in nodo.hijos:\n",
        "        if cadena[i] == hijo.caracter:\n",
        "          hijo.indices.append( i + og_i )\n",
        "\n",
        "          # Y crea una llamada recursiva nueva para el siguiente caracter\n",
        "          # a partir del hijo\n",
        "          self.insertar(hijo, cadena, i+1, og_i)\n",
        "          return\n",
        "\n",
        "\n",
        "\n",
        "      # Pero si ninguno fue igual, crea un hijo nuevo para el nodo actual\n",
        "      # Asigna los atributos del hijo: caracter,  indice, nivel, final\n",
        "      #print(i)\n",
        "      hijo = Nodo(cadena[i], i == (m-1) )\n",
        "      hijo.indices.append(i + og_i )\n",
        "      hijo.level = nodo.level + 1\n",
        "\n",
        "\n",
        "      # Y agregalo a la lista de hijos de nodo\n",
        "      nodo.hijos.append(hijo)\n",
        "\n",
        "      # Por ultimo,  crea una llamada recursiva nueva para el siguiente caracter\n",
        "      self.insertar( hijo, cadena, i+1, og_i )\n",
        "    return\n",
        "\n",
        "  # Recorrido in order para mostrar el arbol\n",
        "  def show_inorder(self, nodo):\n",
        "    print(\"\\nSoy \", nodo.caracter, \"existo en: \", nodo.indices, \"final\", nodo.es_final, \" lvl:\", nodo.level )\n",
        "    print(\"\\tHijos\", [h.caracter for h in nodo.hijos ] )\n",
        "\n",
        "    for h in nodo.hijos:\n",
        "      self.show_inorder(h)\n",
        "\n",
        "    # Version iterativa\n",
        "\n",
        "  def insertar_iter(self, nodo, cadena, og_i):\n",
        "    # Iniciando en el nodo raiz...\n",
        "    # mientras los nodos hagan match con la cadena...\n",
        "    # agrega los indices a los nodos\n",
        "    i = 0\n",
        "    matches = 1\n",
        "    while (matches != 0 and i < len(cadena) ):\n",
        "      matches = 0\n",
        "      for hijo in nodo.hijos:\n",
        "        if (hijo.caracter == cadena[i]):\n",
        "          hijo.indices.append(i+og_i)\n",
        "          matches = 1\n",
        "          i += 1\n",
        "          nodo = hijo\n",
        "          break\n",
        "\n",
        "    # Si ya no hay coincidencias, y quedan caracteres en la cadena\n",
        "    # cointinua creando nodos nuevos para cada caracter pendiente...\n",
        "\n",
        "    while ( i < len(cadena) and matches == 0 ):\n",
        "      nuevo_hijo = Nodo(cadena[i], i == len(cadena)-1 )\n",
        "      nuevo_hijo.indices.append(i+og_i)\n",
        "      nuevo_hijo.level = nodo.level + 1\n",
        "\n",
        "      nodo.hijos.append(nuevo_hijo)\n",
        "      i += 1\n"
      ],
      "metadata": {
        "id": "FiLVFzxeR9Ai"
      },
      "execution_count": 42,
      "outputs": []
    },
    {
      "cell_type": "code",
      "source": [
        "  # Version iterativa\n",
        "\n",
        "  def insertar_iter(self, nodo, cadena, index):\n",
        "    pass\n",
        "    # Iniciando en el nodo raiz...\n",
        "    # mientras los nodos hagan match con la cadena...\n",
        "    # agrega los indices a los nodos\n",
        "\n",
        "\n",
        "    # Si ya no hay coincidencias, y quedan caracteres en la cadena\n",
        "    # cointinua creando nodos nuevos para cada caracter pendiente..."
      ],
      "metadata": {
        "id": "2l7hSOXaYNVo"
      },
      "execution_count": 43,
      "outputs": []
    },
    {
      "cell_type": "code",
      "source": [
        "\n"
      ],
      "metadata": {
        "id": "-AbxQ-MKXyoO"
      },
      "execution_count": 43,
      "outputs": []
    },
    {
      "cell_type": "code",
      "source": [
        "palabra = \"anabanana\"\n",
        "n = len(palabra)\n",
        "\n",
        "sufijos = [ palabra[i:] for i in range(n) ]\n",
        "print(sufijos)\n",
        "\n",
        "# Como puede mejorarse?\n",
        "\n",
        "trie = Trie()\n",
        "for i in range( len(sufijos) ):\n",
        "  #trie.insertar(trie.raiz, sufijos[i], 0, i)\n",
        "  trie.insertar_iter(trie.raiz, sufijos[i], i)\n",
        "\n",
        "trie.show_inorder( trie.raiz )\n",
        "\n"
      ],
      "metadata": {
        "colab": {
          "base_uri": "https://localhost:8080/"
        },
        "id": "09Wvq_9bX1-0",
        "outputId": "d43ea44a-864d-40dc-ac60-252854759272"
      },
      "execution_count": 44,
      "outputs": [
        {
          "output_type": "stream",
          "name": "stdout",
          "text": [
            "['anabanana', 'nabanana', 'abanana', 'banana', 'anana', 'nana', 'ana', 'na', 'a']\n",
            "\n",
            "Soy  # existo en:  [] final False  lvl: 0\n",
            "\tHijos ['a', 'n', 'a', 'b', 'a', 'n', 'a', 'n', 'a']\n",
            "\n",
            "Soy  a existo en:  [0, 2, 4, 6, 8] final False  lvl: 1\n",
            "\tHijos ['b', 'a', 'n', 'a', 'n', 'a']\n",
            "\n",
            "Soy  b existo en:  [3] final False  lvl: 2\n",
            "\tHijos []\n",
            "\n",
            "Soy  a existo en:  [4] final False  lvl: 2\n",
            "\tHijos []\n",
            "\n",
            "Soy  n existo en:  [5, 5, 7] final False  lvl: 2\n",
            "\tHijos ['a', 'n', 'a']\n",
            "\n",
            "Soy  a existo en:  [6, 8] final False  lvl: 3\n",
            "\tHijos []\n",
            "\n",
            "Soy  n existo en:  [7] final False  lvl: 3\n",
            "\tHijos []\n",
            "\n",
            "Soy  a existo en:  [8] final True  lvl: 3\n",
            "\tHijos []\n",
            "\n",
            "Soy  a existo en:  [6] final False  lvl: 2\n",
            "\tHijos []\n",
            "\n",
            "Soy  n existo en:  [7] final False  lvl: 2\n",
            "\tHijos []\n",
            "\n",
            "Soy  a existo en:  [8] final True  lvl: 2\n",
            "\tHijos []\n",
            "\n",
            "Soy  n existo en:  [1, 1, 5, 7] final False  lvl: 1\n",
            "\tHijos ['a', 'b', 'a', 'n', 'a', 'n', 'a']\n",
            "\n",
            "Soy  a existo en:  [2, 6, 8] final False  lvl: 2\n",
            "\tHijos ['n', 'a']\n",
            "\n",
            "Soy  n existo en:  [7] final False  lvl: 3\n",
            "\tHijos []\n",
            "\n",
            "Soy  a existo en:  [8] final True  lvl: 3\n",
            "\tHijos []\n",
            "\n",
            "Soy  b existo en:  [3] final False  lvl: 2\n",
            "\tHijos []\n",
            "\n",
            "Soy  a existo en:  [4] final False  lvl: 2\n",
            "\tHijos []\n",
            "\n",
            "Soy  n existo en:  [5] final False  lvl: 2\n",
            "\tHijos []\n",
            "\n",
            "Soy  a existo en:  [6] final False  lvl: 2\n",
            "\tHijos []\n",
            "\n",
            "Soy  n existo en:  [7] final False  lvl: 2\n",
            "\tHijos []\n",
            "\n",
            "Soy  a existo en:  [8] final True  lvl: 2\n",
            "\tHijos []\n",
            "\n",
            "Soy  a existo en:  [2] final False  lvl: 1\n",
            "\tHijos []\n",
            "\n",
            "Soy  b existo en:  [3, 3] final False  lvl: 1\n",
            "\tHijos ['a', 'n', 'a', 'n', 'a']\n",
            "\n",
            "Soy  a existo en:  [4] final False  lvl: 2\n",
            "\tHijos []\n",
            "\n",
            "Soy  n existo en:  [5] final False  lvl: 2\n",
            "\tHijos []\n",
            "\n",
            "Soy  a existo en:  [6] final False  lvl: 2\n",
            "\tHijos []\n",
            "\n",
            "Soy  n existo en:  [7] final False  lvl: 2\n",
            "\tHijos []\n",
            "\n",
            "Soy  a existo en:  [8] final True  lvl: 2\n",
            "\tHijos []\n",
            "\n",
            "Soy  a existo en:  [4] final False  lvl: 1\n",
            "\tHijos []\n",
            "\n",
            "Soy  n existo en:  [5] final False  lvl: 1\n",
            "\tHijos []\n",
            "\n",
            "Soy  a existo en:  [6] final False  lvl: 1\n",
            "\tHijos []\n",
            "\n",
            "Soy  n existo en:  [7] final False  lvl: 1\n",
            "\tHijos []\n",
            "\n",
            "Soy  a existo en:  [8] final True  lvl: 1\n",
            "\tHijos []\n"
          ]
        }
      ]
    },
    {
      "cell_type": "markdown",
      "source": [],
      "metadata": {
        "id": "DjTlmbl6KmZd"
      }
    }
  ]
}