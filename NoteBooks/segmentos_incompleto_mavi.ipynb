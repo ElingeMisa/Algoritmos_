{
  "cells": [
    {
      "cell_type": "code",
      "execution_count": null,
      "metadata": {
        "id": "DqJJ3fe0EkQz"
      },
      "outputs": [
        {
          "ename": "",
          "evalue": "",
          "output_type": "error",
          "traceback": [
            "\u001b[1;31mRunning cells with 'Python 3.12.5' requires the ipykernel package.\n",
            "\u001b[1;31mRun the following command to install 'ipykernel' into the Python environment. \n",
            "\u001b[1;31mCommand: '/opt/homebrew/bin/python3 -m pip install ipykernel -U --user --force-reinstall'"
          ]
        }
      ],
      "source": [
        "import math\n",
        "import matplotlib.pyplot as plt\n",
        "\n",
        "\n",
        "# funcion de distancia\n",
        "def dE(p1, p2):\n",
        "  return math.sqrt( (p2[0] - p1[0])**2 + (p2[1] - p1[1])**2 )\n",
        "\n"
      ]
    },
    {
      "cell_type": "code",
      "execution_count": 98,
      "metadata": {
        "colab": {
          "base_uri": "https://localhost:8080/",
          "height": 106
        },
        "id": "tXYIK8FXFDQN",
        "outputId": "7dcee157-28b4-4eff-c407-438133563b09"
      },
      "outputs": [],
      "source": [
        "# Calculo del a, b, y c de la RECTA que corresponde al segmento\n",
        "# Recibe un segmento, formado por dos puntos:  s es [ [x1, y1 ], [x2, y2] ]\n",
        "def recta_abc( s ):\n",
        "  # extrae las coordenadas de los puntos\n",
        "  x1 = s[0][0]\n",
        "  y1 = s[0][1]\n",
        "\n",
        "  x2 = s[1][0]\n",
        "  y2 = s[1][1]\n",
        "\n",
        "  # Calcula a, b y c\n",
        "  a = y2 - y1\n",
        "  b = x1 - x2\n",
        "  c = a*x1 - b*y1\n",
        "\n",
        "  return a, b, c\n"
      ]
    },
    {
      "cell_type": "code",
      "execution_count": 99,
      "metadata": {
        "id": "CUnTryXzLujy"
      },
      "outputs": [],
      "source": [
        "# A menos que sean paralelas, todo par de rectas intersecta en algun punto\n",
        "def recta_interseccion( seg1, seg2 ):\n",
        "\t#  Obten el a, b y c de la recta que corresponde a cada segmento\n",
        "  a1, b1, c1 = recta_abc( seg1 )\n",
        "  a2, b2, c2 = recta_abc( seg2 )\n",
        "  #  Calcula el determinante\n",
        "  det = (a1*b2) - (a2*b1)\n",
        "  #  Usa el valor del determinate para decidir si se interceptan, o no, y donde\n",
        "  # Devuelve false si no hay interseccion\n",
        "  # Si hay interseccion, calcula el punto y devuelvelo\n",
        "  if det != 0:\n",
        "    # Las rectas se intersectan en x,y\n",
        "    x = ((b2*c1) - (b1*c2)) // det\n",
        "    y = ((a1*c2) - (a2*c1)) // det\n",
        "    return [x, y]\n",
        "  else:\n",
        "    # Las rectas son paralelas\n",
        "    return False\n",
        "\n"
      ]
    },
    {
      "cell_type": "code",
      "execution_count": 100,
      "metadata": {
        "id": "C-jAUxUPMprL"
      },
      "outputs": [],
      "source": [
        "def segmento_interseccion(seg1, seg2):\n",
        "  # Que las rectas se intersecten no significa que sus segmentos tambien\n",
        "\n",
        "  # Como saber si hay interseccion en los segmentos??\n",
        "  # Debes comprovar que w sea parte de seg1 y seg2\n",
        "\n",
        "  # Calcula el punto de interseccion de las rectas\n",
        "  p_int = recta_interseccion( seg1, seg2 )\n",
        "\n",
        "  if p_int == False:\n",
        "    return False\n",
        "  \n",
        "  # Comprueba que el punto de interseccion esta en ambos segmentos\n",
        "\n",
        "  # Calculamos para segmento 1\n",
        "  \n",
        "  d_S1 = dE(seg1[0], seg1[1])\n",
        "  d_S1_1 = dE(seg1[0], p_int)\n",
        "  d_S1_2 = dE(seg1[1], p_int)\n",
        "\n",
        "  \n",
        "  # Calculamos para segmento 2\n",
        "  d_S2 = dE(seg2[0], seg2[1])\n",
        "  d_S2_1 = dE(seg2[0], p_int)\n",
        "  d_S2_2 = dE(seg2[1], p_int)\n",
        "\n",
        "  \n",
        "  return p_int\n",
        "\n"
      ]
    },
    {
      "cell_type": "code",
      "execution_count": null,
      "metadata": {
        "colab": {
          "base_uri": "https://localhost:8080/",
          "height": 1000
        },
        "id": "CDzT4vr4FLCD",
        "outputId": "78980ffe-1ebd-4933-fb0e-70e31f2c7e6b"
      },
      "outputs": [],
      "source": [
        "# Ejemplo para plot\n",
        "\n",
        "# Recibe un segmento, formado por dos puntos:   [ [x1, y1 ], [x2, y2] ]\n",
        "def plotSegment( segmento ):\n",
        "  # Extrae las coordenadas de los puntos\n",
        "  p1 = segmento[0]\n",
        "  p2 = segmento[1]\n",
        "  # Scatter sirve para dibujar puntos, funciona con listas\n",
        "  # Sintaxis: plt.scatter( vals_x, vals_y )\n",
        "  plt.scatter(p1[0], p1[1])\n",
        "\n",
        "  # Plot sirve para dibujar lineas, funciona con listas tambien\n",
        "  # Sintaxis: plt.plot( vals_x, vals_y, opciones )\n",
        "  plt.plot( [p1[0] , p2[0]],[p1[1], p2[1]],  linestyle=\"-\")\n",
        "\n",
        "  # Text sirve para agregar textos\n",
        "  # Sintaxis:  plt.text( x, y, text, opciones)\n",
        "  plt.text( p1[0] , p1[1] , \"->\"  , color=\"black\" )\n",
        "  plt.text( p2[0] , p2[1] , \"->\"  , color=\"black\" )\n",
        "\n",
        "\n",
        "def writeInPlot( x, y, texto ):\n",
        "  plt.text(x, y, texto)\n",
        "\n",
        "\n",
        "#\tsegmento \t      p1          p2\n",
        "S1        = [[1.0, 2.0],  [3.0, 4.0]]\n",
        "S2        = [[2.0, 2.0],  [4.0, 1.0]]\n",
        "\n",
        "S3        = [[1.0, 2.0],  [3.0, 3.0]]\n",
        "S4        = [[2.0, 1.0],  [3.0, 2.0]]\n",
        "\n",
        "S5        = [[1.0, 1.0],  [4.0, 1.0] ]\n",
        "S6        = [[1.0, 3.0],  [2.0, 3.0] ]\n",
        "\n",
        "def write(s1,s2):\n",
        "  plotSegment(s1)\n",
        "  plotSegment(s2)\n",
        "  interseccion_1_2 = segmento_interseccion( s1, s2 )\n",
        "  if interseccion_1_2 != False:\n",
        "    plt.text( interseccion_1_2[0], interseccion_1_2[1], \"Interseccion\", color=\"red\" )\n",
        "  plt.show()\n",
        "\n",
        "write(S1,S2)  \n",
        "write(S2,S4)\n",
        "write(S5,S6)\n",
        "\n"
      ]
    }
  ],
  "metadata": {
    "colab": {
      "provenance": []
    },
    "kernelspec": {
      "display_name": "Python 3",
      "language": "python",
      "name": "python3"
    },
    "language_info": {
      "codemirror_mode": {
        "name": "ipython",
        "version": 3
      },
      "file_extension": ".py",
      "mimetype": "text/x-python",
      "name": "python",
      "nbconvert_exporter": "python",
      "pygments_lexer": "ipython3",
      "version": "3.12.5"
    }
  },
  "nbformat": 4,
  "nbformat_minor": 0
}
