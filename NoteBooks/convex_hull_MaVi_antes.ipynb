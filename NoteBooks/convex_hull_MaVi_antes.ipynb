{
  "cells": [
    {
      "cell_type": "code",
      "execution_count": 1,
      "metadata": {
        "id": "0J9fcCmtyOE1"
      },
      "outputs": [],
      "source": [
        "import math\n",
        "import matplotlib.pyplot as plt\n",
        "import numpy as np\n",
        "\n",
        "def lee_archivo(archivo):\n",
        "\tf = open(archivo, \"r\")\n",
        "\tcontenido = f.read()\n",
        "\tf.close()\n",
        "\n",
        "\tlines = contenido.split(\"\\n\")\n",
        "\tn = int(lines[0])\n",
        "\tpoints = [ list(map(float, lines[i].split(\"\\t\")))  for i in range(1, len(lines)-1 )]\n",
        "\n",
        "\treturn n, points"
      ]
    },
    {
      "cell_type": "code",
      "execution_count": 2,
      "metadata": {
        "id": "q4aYqJr-09Pm"
      },
      "outputs": [],
      "source": [
        "# Calcula el angulo que 2 puntos forman\n",
        "# usa math.atan() y math.degrees( )\n",
        "\n",
        "def get_angle(p1, p2):\n",
        "\t\n",
        "\treturn math.degrees(math.atan2(p2[1]-p1[1], p2[0]-p1[0]))\n"
      ]
    },
    {
      "cell_type": "code",
      "execution_count": 3,
      "metadata": {
        "id": "J8RpRJD_3wyq"
      },
      "outputs": [],
      "source": [
        "#  0 =  son colineales\n",
        "#  1 = p3 esta en el sentido del reloj\n",
        "# -1 = p3 esta counterclockwise\n",
        "def orientacion(p1, p2, p3):\n",
        "    \n",
        "    val = (p2[1]-p1[1])*(p3[0]-p2[0]) - (p2[0]-p1[0])*(p3[1]-p2[1])\n",
        "    \n",
        "    if val == 0:\n",
        "        return 0\n",
        "    elif val > 0:\n",
        "        return 1\n",
        "    else:\n",
        "        return -1\n",
        "\n"
      ]
    },
    {
      "cell_type": "code",
      "execution_count": 5,
      "metadata": {
        "id": "WGkIWDFJvSgB"
      },
      "outputs": [],
      "source": [
        "def find_hull(n, puntos):\n",
        "  # Obten el menor punto de acuerdo a la coordenada y\n",
        "  # min(lista,  key = lambda param : returned_value  )\n",
        "  lowest_point = min( puntos, key = lambda x: x[1] )\n",
        "\n",
        "  # Obten el angulo de cada uno de los otros puntos\n",
        "  # con respecto a lowest_point\n",
        "  for i in range( n ):\n",
        "    puntos[i].append( get_angle( lowest_point, puntos[i] ))\n",
        "\n",
        "  # ordena los puntos con respecto al angulo que forman con lowest_point\n",
        "  puntos_sorted = sorted(puntos, key = lambda x: x[2] )\n",
        "\n",
        "  # Agrega los tres primeros puntos(ordenados) en la stack\n",
        "  # Spoiler: al final del proceso, los puntos elegidos se quedan en la stack\n",
        "  \n",
        "  stack = puntos_sorted[:3]\n",
        "\n",
        "  # Para cada uno del resto de los puntos...\n",
        "\n",
        "    # Mientras la stack tenga 2 o mas puntos...\n",
        "      # Revisa la orientacion del punto actual con respecto\n",
        "      # a los dos ultimos puntos de la stack\n",
        "\n",
        "      # Si la orientacion es clockwise, los tres puntos forman un angulo concavo\n",
        "        # Asi que el ultimo punto de la stack no deberia ser parte de la hull\n",
        "        # Remuevelo de la stack\n",
        "\n",
        "      # Si la orietacion no es clockwise, no hace falta eliminar nada. Rompe el while\n",
        "\n",
        "    # Fuera del while, agrega el punto actual a la stack\n",
        "\n",
        "  # Al final del proceso, devuelve la stack y el punto lowest_point\n",
        "\n",
        "  for i in range(3, n):\n",
        "    current = puntos_sorted[i]\n",
        "    while len(stack) >= 2 :\n",
        "      \n",
        "      ult = stack[-1]\n",
        "      penult = stack[-2]\n",
        "\n",
        "      or_curr = orientacion(penult, ult, current)\n",
        "\n",
        "      if or_curr == 1:\n",
        "        stack.pop()\n",
        "      else:\n",
        "        break\n",
        "    \n",
        "    stack.append(current)\n",
        "  \n",
        "  return stack, lowest_point\n",
        "      \n",
        "\n",
        "\n"
      ]
    },
    {
      "cell_type": "code",
      "execution_count": 9,
      "metadata": {
        "id": "hAE76gj44LeP"
      },
      "outputs": [],
      "source": [
        "def draw_hull( puntos, elegidos, lowest, text):\n",
        "\t# Esto grafica todos los puntos con colores random, y semi-trasparentes\n",
        "\tcolors = np.random.rand(n)\n",
        "\tplt.scatter([p[0] for p in puntos], [p[1] for p in puntos], c=colors, alpha=0.5)\n",
        "\n",
        "\t# Usa scatters similares para graficar los puntos elegidos y el lowest\n",
        "\t#??\n",
        "\t#??\n",
        "\n",
        "\t# Usa plot para graficar el poligono\n",
        "\n",
        "\t# text es el nombre de la instancia de prueba, agregado como texto a la grafica\n",
        "\tplt.title(text)\n",
        "\n",
        "\tplt.show()"
      ]
    },
    {
      "cell_type": "code",
      "execution_count": 10,
      "metadata": {
        "colab": {
          "base_uri": "https://localhost:8080/",
          "height": 1000
        },
        "id": "wZrCyuGVyoJB",
        "outputId": "463b4978-ade5-4140-ced6-9c8fbc44f78c"
      },
      "outputs": [
        {
          "name": "stdout",
          "output_type": "stream",
          "text": [
            "[[2.408, -5.758, 0.0], [7.404, -0.906, 44.16226601295781], [3.991, 4.593, 81.30500618422475], [1.28, 1.179, 99.23582077418848], [-7.757, 5.6, 131.82739438505016], [-2.77, -0.026, 132.093068591252], [-7.401, 4.014, 135.10826522235206], [-3.99, -2.74, 154.74628374947346]]\n"
          ]
        },
        {
          "data": {
            "image/png": "[encoded data removed]",
            "text/plain": [
              "<Figure size 640x480 with 1 Axes>"
            ]
          },
          "metadata": {},
          "output_type": "display_data"
        }
      ],
      "source": [
        "# Por cada instancia....\n",
        "\n",
        "# 1. Lee los puntos\n",
        "file_name = \"/Users/misa_v/Library/CloudStorage/OneDrive-InstitutoTecnologicoydeEstudiosSuperioresdeMonterrey/Sem 5/Algoritmos_/Scripts/Python/txt/puntos-n8.txt\"\n",
        "n, puntos = lee_archivo( file_name )\n",
        "\n",
        "\n",
        "# 2. Calcula la convex hull\n",
        "\n",
        "elegidos, lowest = find_hull(n, puntos)\n",
        "\n",
        "print(elegidos)\n",
        "\n",
        "# 3. Y grafica...\n",
        "draw_hull(puntos, elegidos, lowest, \"Puntos-n8.txt\")"
      ]
    }
  ],
  "metadata": {
    "colab": {
      "provenance": []
    },
    "kernelspec": {
      "display_name": ".venv",
      "language": "python",
      "name": "python3"
    },
    "language_info": {
      "codemirror_mode": {
        "name": "ipython",
        "version": 3
      },
      "file_extension": ".py",
      "mimetype": "text/x-python",
      "name": "python",
      "nbconvert_exporter": "python",
      "pygments_lexer": "ipython3",
      "version": "3.12.5"
    }
  },
  "nbformat": 4,
  "nbformat_minor": 0
}
