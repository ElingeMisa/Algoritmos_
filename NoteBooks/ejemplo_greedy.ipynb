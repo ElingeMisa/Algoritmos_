{
  "cells": [
    {
      "cell_type": "code",
      "execution_count": 1,
      "metadata": {
        "id": "TnAl1Hfe2622"
      },
      "outputs": [],
      "source": [
        "# Encuentra el idice de un nodo no procesado con distancia minima\n",
        "def findMin (procesado, distancia):\n",
        "\n",
        "\tminD = float('inf')\n",
        "\tindex = -1\n",
        "\n",
        "\tfor i in range(len(distancia)):\n",
        "\t\tif procesado[i] == 0 and distancia[i] < minD:\n",
        "\t\t\tminD = distancia[i]\n",
        "\t\t\tindex = i\n",
        "\n",
        "\treturn index\n",
        "\n",
        "\n",
        "def dikjstra (G):\n",
        "\tn = len(G)\n",
        "\n",
        "\tdistancia = [float('inf') for i in range(n) ]\n",
        "\tdistancia[0] = 0        # asume que inica en el nodo 0\n",
        "\n",
        "\tprocesado = [-1 for i in range(n) ]\n",
        "\tdesde = [0 for i in range(n) ]\n",
        "\n",
        "\tfor i in G:\n",
        "    # Encuentra el nodo u: no procesado y con minima distancia\n",
        "\t\tu = findMin(procesado, distancia)\n",
        "\t\tprocesado[u] = 1\n",
        "\n",
        "    # Marca u como procesado\n",
        "\n",
        "\n",
        "    # Por cada vecino de u...\n",
        "\t\tfor v in G[u]:\n",
        "\t\t\tprint(u, v)\n",
        "\n",
        "      # obtenen el valor de nueva distancia\n",
        "\t\t\t\n",
        "\t\t\tnueva_dis = distancia[u] + G[u][v]\n",
        "\n",
        "      # actualiza el valor de distancia si la nueva es mejor\n",
        "\t\t\tif disrancia[v[0]] > nueva_dis:\n",
        "\t\t\t\tdistancia[v[0]] = nueva_dis\n",
        "\t\t\t\tdesde[v[0]] = u\n",
        "\n",
        "  # Imprime la distancia\n",
        "\tprint(distancia)\n",
        "\t#print(desde)"
      ]
    },
    {
      "cell_type": "code",
      "execution_count": 2,
      "metadata": {
        "id": "IVtmQsLS2xci"
      },
      "outputs": [
        {
          "ename": "KeyError",
          "evalue": "-1",
          "output_type": "error",
          "traceback": [
            "\u001b[0;31m---------------------------------------------------------------------------\u001b[0m",
            "\u001b[0;31mKeyError\u001b[0m                                  Traceback (most recent call last)",
            "Cell \u001b[0;32mIn[2], line 17\u001b[0m\n\u001b[1;32m     10\u001b[0m \u001b[38;5;66;03m# Vecinos de cada nodo, y peso de la arista\u001b[39;00m\n\u001b[1;32m     11\u001b[0m G1 \u001b[38;5;241m=\u001b[39m {\tA: [[B, \u001b[38;5;241m4\u001b[39m], [C, \u001b[38;5;241m2\u001b[39m] ],\n\u001b[1;32m     12\u001b[0m \t\tB: [[C, \u001b[38;5;241m3\u001b[39m], [D, \u001b[38;5;241m2\u001b[39m], [E, \u001b[38;5;241m3\u001b[39m] ],\n\u001b[1;32m     13\u001b[0m \t\tC: [[B, \u001b[38;5;241m1\u001b[39m], [D, \u001b[38;5;241m4\u001b[39m], [E, \u001b[38;5;241m5\u001b[39m] ],\n\u001b[1;32m     14\u001b[0m \t\tD: [],\n\u001b[1;32m     15\u001b[0m \t\tE: [[D, \u001b[38;5;241m1\u001b[39m]]  }\n\u001b[0;32m---> 17\u001b[0m \u001b[43mdikjstra\u001b[49m\u001b[43m(\u001b[49m\u001b[43mG1\u001b[49m\u001b[43m)\u001b[49m\n",
            "Cell \u001b[0;32mIn[1], line 33\u001b[0m, in \u001b[0;36mdikjstra\u001b[0;34m(G)\u001b[0m\n\u001b[1;32m     27\u001b[0m \t\tprocesado[u] \u001b[38;5;241m=\u001b[39m \u001b[38;5;241m1\u001b[39m\n\u001b[1;32m     29\u001b[0m     \u001b[38;5;66;03m# Marca u como procesado\u001b[39;00m\n\u001b[1;32m     30\u001b[0m \n\u001b[1;32m     31\u001b[0m \n\u001b[1;32m     32\u001b[0m     \u001b[38;5;66;03m# Por cada vecino de u...\u001b[39;00m\n\u001b[0;32m---> 33\u001b[0m \t\t\u001b[38;5;28;01mfor\u001b[39;00m v \u001b[38;5;129;01min\u001b[39;00m \u001b[43mG\u001b[49m\u001b[43m[\u001b[49m\u001b[43mu\u001b[49m\u001b[43m]\u001b[49m:\n\u001b[1;32m     34\u001b[0m \t\t\t\u001b[38;5;28mprint\u001b[39m(u, v)\n\u001b[1;32m     36\u001b[0m       \u001b[38;5;66;03m# obtenen el valor de nueva distancia\u001b[39;00m\n",
            "\u001b[0;31mKeyError\u001b[0m: -1"
          ]
        }
      ],
      "source": [
        "\n",
        "\n",
        "A = 0\n",
        "B = 1\n",
        "C = 2\n",
        "D = 3\n",
        "E = 4\n",
        "\n",
        "# Lista de nodos\n",
        "V = [A, B, C, D, E]\n",
        "\n",
        "# Vecinos de cada nodo, y peso de la arista\n",
        "G1 = {\tA: [[B, 4], [C, 2] ],\n",
        "\t\tB: [[C, 3], [D, 2], [E, 3] ],\n",
        "\t\tC: [[B, 1], [D, 4], [E, 5] ],\n",
        "\t\tD: [],\n",
        "\t\tE: [[D, 1]]  }\n",
        "\n",
        "dikjstra(G1)"
      ]
    }
  ],
  "metadata": {
    "colab": {
      "provenance": []
    },
    "kernelspec": {
      "display_name": "Python 3",
      "name": "python3"
    },
    "language_info": {
      "codemirror_mode": {
        "name": "ipython",
        "version": 3
      },
      "file_extension": ".py",
      "mimetype": "text/x-python",
      "name": "python",
      "nbconvert_exporter": "python",
      "pygments_lexer": "ipython3",
      "version": "3.12.5"
    }
  },
  "nbformat": 4,
  "nbformat_minor": 0
}
