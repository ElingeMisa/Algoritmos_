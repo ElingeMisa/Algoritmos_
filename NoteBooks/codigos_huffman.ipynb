{
  "cells": [
    {
      "cell_type": "markdown",
      "metadata": {
        "id": "_TJYhF2ICkha"
      },
      "source": [
        "#Encodings con arboles de Huffman\n",
        "\n",
        "\n",
        "\n",
        "\n"
      ]
    },
    {
      "cell_type": "markdown",
      "metadata": {
        "id": "IyDihq1iDEkn"
      },
      "source": [
        "# Una clase para los nodos de un arbol...\n",
        "\n",
        "Que informacion tenemos que guardar para cada nodo?\n",
        "\n",
        "\n",
        "* Tienen un caracter\n",
        "* Una probalidad asociada a ese caracter\n",
        "* Una etiqueta binaria (tag) : 0 o 1\n",
        "* Puede que tengan nodos hijos: izquierdo y derecho\n",
        "* O puede que sean hojas. Como sabremos que lo son?\n"
      ]
    },
    {
      "cell_type": "code",
      "execution_count": 1,
      "metadata": {
        "id": "uafxbho_Cr7g"
      },
      "outputs": [],
      "source": [
        "class Nodo:\n",
        "  def __init__ (self, caracter, prob):\n",
        "    self.caracter = caracter\n",
        "    self.prob = prob\n",
        "\n",
        "    self.tag = -1\n",
        "\n",
        "\n",
        "    self.rigth = -1\n",
        "    self.left = -1\n",
        "\n",
        "\n"
      ]
    },
    {
      "cell_type": "markdown",
      "metadata": {
        "id": "AtuvHMWdDkxx"
      },
      "source": [
        "# Una clase arbol...\n",
        "\n",
        "Tiene un nodo raiz"
      ]
    },
    {
      "cell_type": "code",
      "execution_count": 2,
      "metadata": {
        "id": "sRyOMSUfEyye"
      },
      "outputs": [],
      "source": [
        "class Arbol:\n",
        "\tdef __init__ (self, raiz ):\n",
        "\t\tself.raiz = raiz\n",
        "\n",
        "\t#\tFuncion para obtener los codigos\n",
        "\t# Los caracteres estan en las hojas del arbol\n",
        "\t# Sus codigos se obtienen a partir de los tags de los nodos desde la raiz hasta el nodo hoja\n",
        "\t# Como lo harias?\n",
        "\tdef get_codigos (self, raiz ):\n",
        "\t\t\n"
      ]
    },
    {
      "cell_type": "markdown",
      "metadata": {
        "id": "J-jZt_voCe_4"
      },
      "source": [
        "# Funcion para obtener los arboles de probabilidades minimas\n",
        "\n",
        "Una funcion para saber cuales dos arboles tienen la probabilidad minima\n",
        "\n"
      ]
    },
    {
      "cell_type": "code",
      "execution_count": 3,
      "metadata": {
        "id": "1-Gk-2bAF9Jb"
      },
      "outputs": [],
      "source": [
        "# Recibe como parametro la lista de arboles\n",
        "\n",
        "def min_probs (listaArboles):\n",
        "  # queremos los inidces de los 2 arboles con probabilidades minimas\n",
        "  # inicializa los indices\n",
        "  \n",
        "  min1 = inf\n",
        "  min2 = inf\n",
        "\n",
        "  # recorre la lista de arboles\n",
        "  for i in range(len(listaArboles)):\n",
        "    \n",
        "    if listaArboles[i].prob < min1:\n",
        "      min2 = min1\n",
        "      min1 = listaArboles[i].prob\n",
        "  # calculalos\n",
        "\n",
        "\n",
        "  # regresa los inidces\n"
      ]
    },
    {
      "cell_type": "markdown",
      "metadata": {
        "id": "HP29E6KFGmUK"
      },
      "source": [
        "# Una funcion qie reciba dos arboles y los fusione\n",
        "\n",
        "Que caracteristicas debe tener el arbol fusionado?\n",
        "\n",
        "\n",
        "\n",
        "*   Los hijos izquierdo y derecho son los nodos raiz de los arboles que se fusionan\n",
        "\n",
        "* Cuales etiquetas le corresponden a los hijos izquierdo y derecho?\n",
        "\n",
        "*   Cual es la probabilidad de la raiz para el arbol fusionado?\n",
        "*   Cual es el caracter? no tiene\n",
        "\n",
        "\n"
      ]
    },
    {
      "cell_type": "code",
      "execution_count": 1,
      "metadata": {
        "id": "1kMMyvFjGr6d"
      },
      "outputs": [],
      "source": [
        "# Recibe como parametros los arboles a fusionar\n",
        "\n",
        "def merge_trees( a , b):\n",
        "\n",
        "  # Para crear un nuevo arbol que sea la fusion de a y b, necesitas crear primero su nodo raiz\n",
        "    # Calcula la probalidad que tendra el arbol nuevo: es la suma de las probs de a y b\n",
        "    # Y crea el nodo raiz para el arbol fusionado, usando un caracter auxiliar #\n",
        "\n",
        "    # Asigna los hijos izquierdo y derecho del nuevo nodo raiz\n",
        "    # Pista: son las raices de los arboles a fusionar\n",
        "\n",
        "    # Dale etiquetas a los nodos hijos: 0 y 1\n",
        "\n",
        "  # Ahora puedes crear el arbol usando el nodo raiz recien creado\n",
        "  # Al final, regresa el arbol\n",
        "\n",
        "    suma = a.raiz.prob + b.raiz.prob\n",
        "    \n",
        "    raiz  = Nodo(\"#\", suma)\n",
        "\n",
        "    if a.raiz.prob < b.raiz.prob:\n",
        "        raiz.left = a.raiz\n",
        "        raiz.rigth = b.raiz\n",
        "    else:\n",
        "        raiz.left = b.raiz\n",
        "        raiz.rigth = a.raiz\n",
        "    \n",
        "\n",
        "\n",
        "\n",
        "\n"
      ]
    },
    {
      "cell_type": "markdown",
      "metadata": {
        "id": "dZFKh5bLOk6c"
      },
      "source": [
        "# Funcion para crear el arbol de Huffman\n"
      ]
    },
    {
      "cell_type": "code",
      "execution_count": 3,
      "metadata": {
        "id": "0YAimR_zOnPS"
      },
      "outputs": [],
      "source": [
        "def crea_huffman_tree(caracteres, probalidades):\n",
        "\n",
        "  # Por caracter, crea un arbol y agregalo a la lista\n",
        "  # Para poder crear un arbol, primero necesitas crear su nodo raiz, con su caracter y probabilidad\n",
        "\n",
        "  arboles = []\n",
        "  n = len(probabilidades)\n",
        "\n",
        "  for i in range(n):\n",
        "    node = Nodo(alfabeto[i], probabilidades[i])\n",
        "    arbol = Arbol(node)\n",
        "    arboles.append(arbol)\n",
        "  \n",
        "    # Mientras la lista tenga mas de un arbol...\n",
        "    # Elige los dos arboles con probailidades minimas y fusionalos\n",
        "  while  len(arboles) > 1  :\n",
        "  #########################################################################\n",
        "      # Comienza por usar la funcion min_probs para encontrar\n",
        "      # los indices de los arboles de la lista con probabilidades minimas\n",
        "      # Obten los arboles a fusionar\n",
        "    arbol1,arbol2 = min_probs(arboles)\n",
        "    \n",
        "      # Obten el arbol fusionado\n",
        "      #arbol_fusionado = merge_trees( ?, ? )\n",
        "    arbol_fusionado = merge_trees(arboles[arbol1], arboles[arbol2])\n",
        "    \n",
        "      # Actualiza la lista:\n",
        "      # remueve los arboles que se fusionaron y agrega el nuevo\n",
        "      # luego agrega el arbol fusionado a la lista\n",
        "    arboles.pop(arbol1)\n",
        "    arboles.pop(arbol2)\n",
        "    arboles.append(arbol_fusionado)\n",
        "  #########################################################################\n",
        "    \n",
        "    # Devuelve el arbol final\n",
        "  return arboles[0]\n",
        "  pass"
      ]
    },
    {
      "cell_type": "markdown",
      "metadata": {
        "id": "UoKK5ZRqcDJt"
      },
      "source": [
        "# Funcion para codificar"
      ]
    },
    {
      "cell_type": "code",
      "execution_count": null,
      "metadata": {
        "id": "6PAgXvOtcDw2"
      },
      "outputs": [],
      "source": [
        "# Codifica la cadena\n",
        "# En la cadena codificada cada caracter de la cadena original es sustituido por su codigo\n",
        "# Usa la tabla de codigos\n",
        "def encoding( cadena, tabla_codigos ):\n",
        "  pass\n"
      ]
    },
    {
      "cell_type": "markdown",
      "metadata": {
        "id": "t2M6TQ1hcKXA"
      },
      "source": [
        "#Funcion para decodificar"
      ]
    },
    {
      "cell_type": "code",
      "execution_count": null,
      "metadata": {
        "id": "o0GP6WFmcNzZ"
      },
      "outputs": [],
      "source": [
        "# Usa el arbol para decodificar un codigo\n",
        "# inicia en la raiz del arbol\n",
        "# Por cada caracter de la cadena codificada, te mueves hacia el nodo hijo izquierdo o derecho\n",
        "# Depediendo de si es 0 o 1\n",
        "# Si llegas a una hoja, ya decodificaste uno de los caracteres.\n",
        "# Guarda cual es.\n",
        "# Y continua desde la raiz del arbol.\n",
        "def decoding( cadena_codificada, arbol_huffman ):\n",
        "  pass"
      ]
    },
    {
      "cell_type": "markdown",
      "metadata": {
        "id": "9Kl4LdyPKIsK"
      },
      "source": [
        "#Seccion principal\n",
        "\n"
      ]
    },
    {
      "cell_type": "code",
      "execution_count": null,
      "metadata": {
        "id": "YvYd2Rw9L2qt"
      },
      "outputs": [],
      "source": [
        "# Instancia del problema\n",
        "# Recuerda que las probabilidades son las frecuencias de aparicion/numero de caracteres del texto original\n",
        "# Diferentes textos tienen diferentes probabilidades, y por lo tanto tendrian diferentes arboles\n",
        "\n",
        "# Este es un ejemplo pequeño, donde ya conocemos las probabilidades\n",
        "alfabeto = [\"A\", \"B\", \"C\", \"D\", \"E\"]\n",
        "probabilidades = [0.35, 0.1, 0.2, 0.2, 0.15 ]\n",
        "\n",
        "# Crea el arbol de Huffman\n",
        "#arbol_huffman = crea_huffman_tree(alfabeto, probabilidades)\n",
        "\n",
        "# Obten el codigo de cada caracter usando los tags de los nodos del arbol\n",
        "#tabla_codigos = arbol_huffman.get_codigos( )\n",
        "\n",
        "# Ahora puedes codificar y decodificar culaquier texto hecho de los caracteres del alfabeto\n",
        "prueba = \"ADADADA\"\n",
        "\n",
        "# prueba_codificada = encoding(prueba, tabla_codigos)\n",
        "\n",
        "# prueba_decodificada = decoding( prueba_codificada, arbol_huffman )\n",
        "\n",
        "\n",
        "\n",
        "\n"
      ]
    }
  ],
  "metadata": {
    "colab": {
      "provenance": []
    },
    "kernelspec": {
      "display_name": "Python 3",
      "name": "python3"
    },
    "language_info": {
      "codemirror_mode": {
        "name": "ipython",
        "version": 3
      },
      "file_extension": ".py",
      "mimetype": "text/x-python",
      "name": "python",
      "nbconvert_exporter": "python",
      "pygments_lexer": "ipython3",
      "version": "3.12.5"
    }
  },
  "nbformat": 4,
  "nbformat_minor": 0
}
