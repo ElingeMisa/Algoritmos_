{
 "cells": [
  {
   "cell_type": "markdown",
   "metadata": {},
   "source": [
    "# Actividad en clase\n",
    "victor misael escalante alvarado"
   ]
  },
  {
   "cell_type": "code",
   "execution_count": 54,
   "metadata": {},
   "outputs": [],
   "source": [
    "import random\n",
    "import matplotlib.pyplot as plt"
   ]
  },
  {
   "cell_type": "markdown",
   "metadata": {},
   "source": [
    "## Funcion para leer un archivo"
   ]
  },
  {
   "cell_type": "code",
   "execution_count": 55,
   "metadata": {},
   "outputs": [],
   "source": [
    "def read_file(file_name):\n",
    "    with open(file_name, 'r') as file:\n",
    "\n",
    "        next(file)  # ignore the first line\n",
    "        \n",
    "        '''\n",
    "        numero_nodos mejoir_solucion numero_aristas\n",
    "        '''\n",
    "        data = file.readline().split(\" \")\n",
    "        numero_nodos = int(data[0])\n",
    "        mejor_solucion = int(data[1])\n",
    "        numero_aristas = int(data[2])\n",
    "    \n",
    "        nodos = []\n",
    "        aristas = []\n",
    "\n",
    "        for i in range(numero_aristas):\n",
    "            data = file.readline().split(\" \")\n",
    "            aristas.append((int(data[0]), int(data[1])))\n",
    "\n",
    "        return numero_nodos, mejor_solucion, numero_aristas, aristas"
   ]
  },
  {
   "cell_type": "markdown",
   "metadata": {},
   "source": [
    "## Algoritmos "
   ]
  },
  {
   "cell_type": "code",
   "execution_count": 56,
   "metadata": {},
   "outputs": [],
   "source": [
    "prefix = \"/Users/misa_v/Library/CloudStorage/OneDrive-InstitutoTecnologicoydeEstudiosSuperioresdeMonterrey/Sem 5/Algoritmos_/Scripts/Python/txt/\"\n",
    "num_nodos, mejor_solucion, num_aristas, aristas = read_file(prefix + \"ash85.txt\")\n"
   ]
  },
  {
   "cell_type": "markdown",
   "metadata": {},
   "source": [
    "#### Solucion inicial aleatoria"
   ]
  },
  {
   "cell_type": "code",
   "execution_count": 57,
   "metadata": {},
   "outputs": [],
   "source": [
    "def max_distancia(aristas, nodos):\n",
    "    \n",
    "    etiquetas = [0] * len(nodos)\n",
    "    \n",
    "    for i in range(len(nodos)):\n",
    "        etiquetas[nodos[i]] = i + 1\n",
    "\n",
    "    max_distancia = 0\n",
    "    for i in range(len(aristas)):\n",
    "        if aristas[i][0] < len(etiquetas) and aristas[i][1] < len(etiquetas):\n",
    "            max_distancia = max(max_distancia, abs(etiquetas[aristas[i][0]] - etiquetas[aristas[i][1]]))\n",
    "\n",
    "    return max_distancia\n",
    "\n",
    "def random_solution(aristas, numero_nodos):\n",
    "    \n",
    "    # ordenamos los nodos de manera aleatoria\n",
    "    solution = list(range(numero_nodos))\n",
    "    random.shuffle(solution)\n",
    "\n",
    "    distancia = max_distancia(aristas, solution)\n",
    "\n",
    "    return solution, distancia"
   ]
  },
  {
   "cell_type": "code",
   "execution_count": 58,
   "metadata": {},
   "outputs": [],
   "source": [
    "sol_ini, dist_ini = random_solution(aristas, num_nodos)"
   ]
  },
  {
   "cell_type": "markdown",
   "metadata": {},
   "source": [
    "### Hill Climber con first-improvement"
   ]
  },
  {
   "cell_type": "markdown",
   "metadata": {},
   "source": [
    "#### Funciones de apoyo"
   ]
  },
  {
   "cell_type": "code",
   "execution_count": null,
   "metadata": {},
   "outputs": [],
   "source": [
    "\n",
    "def affected_edges(solucion, aristas, i, j):\n",
    "\n",
    "# cambio con un solo nodo\n",
    "def swap(solution, i, j):\n",
    "    solution[i], solution[j] = solution[j], solution[i]\n",
    "    \n",
    "    \n",
    "\n",
    "def local_search_first_improvement(solution, aristas, max_iteraciones=250000):\n",
    "    \n",
    "    best_distance = max_distancia(aristas, solution)\n",
    "    worst_distance = 0\n",
    "\n",
    "    best_solution = solution\n",
    "\n",
    "    for iteration in range(max_iteraciones):\n",
    "\n",
    "        # visitamos todo el vecindario hasta encontrar una mejor solución\n",
    "        for i in range(len(solution)):\n",
    "            for j in range(i + 1, len(solution)):\n",
    "                \n",
    "                new_solution, new_distance = swap(solution[:], i, j)\n",
    "                # se incrementa el número de iteraciones por evaluar una nueva solución\n",
    "                iteration += 1\n",
    "\n",
    "                if new_distance < best_distance:\n",
    "                    best_distance = new_distance\n",
    "                    best_solution = new_solution\n",
    "                    break  # salimos del bucle interno si encontramos una mejor solución\n",
    "\n",
    "            if new_distance < best_distance:\n",
    "                break  # salimos del bucle externo si encontramos una mejor solución\n",
    "        \n",
    "        \n",
    "        # si no encontramos una mejor solución obtenemos otra solución aleatoria\n",
    "        if new_distance >= best_distance:\n",
    "            solution, new_distance = random_solution(aristas, num_nodos)\n",
    "            \n",
    "\n",
    "    return best_solution, best_distance"
   ]
  },
  {
   "cell_type": "markdown",
   "metadata": {},
   "source": [
    "#### El codigo normal"
   ]
  },
  {
   "cell_type": "code",
   "execution_count": 61,
   "metadata": {},
   "outputs": [
    {
     "ename": "ValueError",
     "evalue": "85 is not in list",
     "output_type": "error",
     "traceback": [
      "\u001b[0;31m---------------------------------------------------------------------------\u001b[0m",
      "\u001b[0;31mValueError\u001b[0m                                Traceback (most recent call last)",
      "Cell \u001b[0;32mIn[61], line 6\u001b[0m\n\u001b[1;32m      4\u001b[0m \u001b[38;5;28;01mfor\u001b[39;00m i \u001b[38;5;129;01min\u001b[39;00m \u001b[38;5;28mrange\u001b[39m(max_iteraciones):\n\u001b[1;32m      5\u001b[0m     sol_ini, dist_ini \u001b[38;5;241m=\u001b[39m random_solution(aristas, num_nodos)\n\u001b[0;32m----> 6\u001b[0m     best_solution, best_distance \u001b[38;5;241m=\u001b[39m \u001b[43mlocal_search_first_improvement\u001b[49m\u001b[43m(\u001b[49m\u001b[43msol_ini\u001b[49m\u001b[43m,\u001b[49m\u001b[43m \u001b[49m\u001b[43maristas\u001b[49m\u001b[43m,\u001b[49m\u001b[43m \u001b[49m\u001b[38;5;241;43m250000\u001b[39;49m\u001b[43m)\u001b[49m\n\u001b[1;32m      7\u001b[0m     all_distances\u001b[38;5;241m.\u001b[39mappend(best_distance)\n\u001b[1;32m      9\u001b[0m plt\u001b[38;5;241m.\u001b[39mboxplot(all_distances)\n",
      "Cell \u001b[0;32mIn[59], line 23\u001b[0m, in \u001b[0;36mlocal_search_first_improvement\u001b[0;34m(solution, aristas, max_iteraciones)\u001b[0m\n\u001b[1;32m     20\u001b[0m \u001b[38;5;28;01mfor\u001b[39;00m i \u001b[38;5;129;01min\u001b[39;00m \u001b[38;5;28mrange\u001b[39m(\u001b[38;5;28mlen\u001b[39m(solution)):\n\u001b[1;32m     21\u001b[0m     \u001b[38;5;28;01mfor\u001b[39;00m j \u001b[38;5;129;01min\u001b[39;00m \u001b[38;5;28mrange\u001b[39m(i \u001b[38;5;241m+\u001b[39m \u001b[38;5;241m1\u001b[39m, \u001b[38;5;28mlen\u001b[39m(solution)):\n\u001b[0;32m---> 23\u001b[0m         new_solution, new_distance \u001b[38;5;241m=\u001b[39m \u001b[43mswap\u001b[49m\u001b[43m(\u001b[49m\u001b[43msolution\u001b[49m\u001b[43m[\u001b[49m\u001b[43m:\u001b[49m\u001b[43m]\u001b[49m\u001b[43m,\u001b[49m\u001b[43m \u001b[49m\u001b[43mi\u001b[49m\u001b[43m,\u001b[49m\u001b[43m \u001b[49m\u001b[43mj\u001b[49m\u001b[43m)\u001b[49m\n\u001b[1;32m     24\u001b[0m         \u001b[38;5;66;03m# se incrementa el número de iteraciones por evaluar una nueva solución\u001b[39;00m\n\u001b[1;32m     25\u001b[0m         iteration \u001b[38;5;241m+\u001b[39m\u001b[38;5;241m=\u001b[39m \u001b[38;5;241m1\u001b[39m\n",
      "Cell \u001b[0;32mIn[59], line 7\u001b[0m, in \u001b[0;36mswap\u001b[0;34m(solution, i, j)\u001b[0m\n\u001b[1;32m      5\u001b[0m new_distance \u001b[38;5;241m=\u001b[39m \u001b[38;5;241m0\u001b[39m\n\u001b[1;32m      6\u001b[0m \u001b[38;5;28;01mfor\u001b[39;00m edge \u001b[38;5;129;01min\u001b[39;00m affected_edges:\n\u001b[0;32m----> 7\u001b[0m     new_distance \u001b[38;5;241m=\u001b[39m \u001b[38;5;28mmax\u001b[39m(new_distance, \u001b[38;5;28mabs\u001b[39m(\u001b[43msolution\u001b[49m\u001b[38;5;241;43m.\u001b[39;49m\u001b[43mindex\u001b[49m\u001b[43m(\u001b[49m\u001b[43medge\u001b[49m\u001b[43m[\u001b[49m\u001b[38;5;241;43m0\u001b[39;49m\u001b[43m]\u001b[49m\u001b[43m)\u001b[49m \u001b[38;5;241m-\u001b[39m solution\u001b[38;5;241m.\u001b[39mindex(edge[\u001b[38;5;241m1\u001b[39m])))\n\u001b[1;32m      8\u001b[0m \u001b[38;5;28;01mreturn\u001b[39;00m solution, new_distance\n",
      "\u001b[0;31mValueError\u001b[0m: 85 is not in list"
     ]
    }
   ],
   "source": [
    "all_distances = []\n",
    "max_iteraciones = 50\n",
    "\n",
    "for i in range(max_iteraciones):\n",
    "    sol_ini, dist_ini = random_solution(aristas, num_nodos)\n",
    "    best_solution, best_distance = local_search_first_improvement(sol_ini, aristas, 250000)\n",
    "    all_distances.append(best_distance)\n",
    "\n",
    "plt.boxplot(all_distances)\n",
    "plt.title('Boxplot de las distancias con FI')\n",
    "plt.ylabel('Distancia')\n",
    "plt.show()"
   ]
  },
  {
   "cell_type": "markdown",
   "metadata": {},
   "source": [
    "### Hill Climber con best improvement"
   ]
  },
  {
   "cell_type": "markdown",
   "metadata": {},
   "source": [
    "#### Funciones de apoyo"
   ]
  },
  {
   "cell_type": "code",
   "execution_count": null,
   "metadata": {},
   "outputs": [],
   "source": [
    "def local_search_best_improvement(solution, aristas, max_iteraciones):\n",
    "    \n",
    "    best_distance = max_distancia(aristas, solution)\n",
    "    worst_distance = 0\n",
    "\n",
    "    best_solution = solution\n",
    "\n",
    "    for iteration in range(max_iteraciones):\n",
    "        \n",
    "        # visitamos todo el vecindario\n",
    "        all_distances = []\n",
    "        all_solutions = []\n",
    "\n",
    "        for i in range(len(solution)):\n",
    "            for j in range(i + 1, len(solution)):\n",
    "                \n",
    "                new_solution, new_distance = swap(solution[:], i, j)\n",
    "                # se incrementa el número de iteraciones por evaluar una nueva solución\n",
    "                iteration += 1\n",
    "                all_distances.append(new_distance)\n",
    "                all_solutions.append(new_solution)\n",
    "                \n",
    "        \n",
    "            all_distances.append(new_distance)\n",
    "            worst_distance = max(worst_distance, new_distance)\n",
    "\n",
    "        # obtenemos la mejor solución del vecindario\n",
    "        best_index = all_distances.index(min(all_distances))\n",
    "        new_distance = all_distances[best_index]\n",
    "        new_solution = all_solutions[best_index]\n",
    "\n",
    "        if new_distance < best_distance:\n",
    "            best_distance = new_distance\n",
    "            best_solution = new_solution\n",
    "\n",
    "        # si no encontramos una mejor solución obtenemos otra solución aleatoria\n",
    "        if new_distance >= best_distance:\n",
    "            solution, new_distance = random_solution(aristas, num_nodos)\n",
    "            \n",
    "\n",
    "    return best_solution, best_distance , all_distances , worst_distance"
   ]
  },
  {
   "cell_type": "markdown",
   "metadata": {},
   "source": [
    "#### El codigo"
   ]
  },
  {
   "cell_type": "code",
   "execution_count": null,
   "metadata": {},
   "outputs": [],
   "source": [
    "all_distances = []\n",
    "max_iteraciones = 50\n",
    "\n",
    "for i in range(max_iteraciones):\n",
    "    sol_ini, dist_ini = random_solution(aristas, num_nodos)\n",
    "    best_solution, best_distance, all_distances, worst_distance = local_search_best_improvement(sol_ini, aristas, 250000)\n",
    "    all_distances.append(best_distance)\n",
    "\n",
    "plt.boxplot(all_distances)\n",
    "plt.title('Boxplot de las distancias con BI')\n",
    "plt.ylabel('Distancia')\n",
    "plt.show()"
   ]
  },
  {
   "cell_type": "markdown",
   "metadata": {},
   "source": [
    "### Mi reflesion"
   ]
  },
  {
   "cell_type": "markdown",
   "metadata": {},
   "source": [
    "#### ¿Cual tipo de improvement presenta mejores resultados? ¿Porque?"
   ]
  },
  {
   "cell_type": "markdown",
   "metadata": {},
   "source": [
    "Me dio casi los mismo resultados , sin embargo la tendencia es que el first improvement con menores iteraciones me daba mejores reultados , pero al momento de darle con todas las itedarionces me dejaba mejores resultados el best improvement (cada que se atascaba le movia a una random)"
   ]
  }
 ],
 "metadata": {
  "kernelspec": {
   "display_name": ".venv",
   "language": "python",
   "name": "python3"
  },
  "language_info": {
   "codemirror_mode": {
    "name": "ipython",
    "version": 3
   },
   "file_extension": ".py",
   "mimetype": "text/x-python",
   "name": "python",
   "nbconvert_exporter": "python",
   "pygments_lexer": "ipython3",
   "version": "3.12.5"
  }
 },
 "nbformat": 4,
 "nbformat_minor": 2
}
