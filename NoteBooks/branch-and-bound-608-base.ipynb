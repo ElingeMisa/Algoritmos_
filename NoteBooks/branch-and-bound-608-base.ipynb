{
  "cells": [
    {
      "cell_type": "markdown",
      "metadata": {
        "id": "nJtTfc6hU8l1"
      },
      "source": [
        "# Imports\n",
        "\n",
        "Agrega librerias para la fila y creacion de copias de objetos"
      ]
    },
    {
      "cell_type": "code",
      "execution_count": 24,
      "metadata": {
        "id": "dldkZHU0UtWJ"
      },
      "outputs": [],
      "source": [
        "import queue\n",
        "import copy"
      ]
    },
    {
      "cell_type": "markdown",
      "metadata": {
        "id": "BD34WiYQU-9h"
      },
      "source": [
        "# Clase para representar soluciones\n",
        "\n",
        "Un objeto de la clase `Partial_Sol` incluye:  \n",
        "* la lista de objetos elegidos\n",
        "* el indice de la siguiente variable a instancias\n",
        "\n",
        "Para el problema knapsack:\n",
        "* valor acumulado\n",
        "* peso acumulado\n",
        "* upperbound potencial\n"
      ]
    },
    {
      "cell_type": "code",
      "execution_count": 25,
      "metadata": {
        "id": "TYOK6K1DU_s4"
      },
      "outputs": [],
      "source": [
        "class Partial_Sol:\n",
        "\n",
        "\tdef __init__(self , n , k , best_ratio):\n",
        "\n",
        "\t\tself.lista = [-1]*n\n",
        "\t\tself.indef_index = 0\n",
        "\n",
        "\t\tself.valor = 0\n",
        "\t\tself.peso = 0\n",
        "\t\tself.ub = self.valor + ((k -self.peso)* best_ratio)"
      ]
    },
    {
      "cell_type": "markdown",
      "metadata": {
        "id": "F9mLlZptVJ0H"
      },
      "source": []
    },
    {
      "cell_type": "code",
      "execution_count": 26,
      "metadata": {
        "id": "2RIbhqB2VKOI"
      },
      "outputs": [],
      "source": [
        "def extend(sol_padre, v , w , k , best_ratio):\n",
        "\n",
        "\t# Crea soluciones hijas como copias de la solucion padre\n",
        "\thija1 = copy.deepcopy(sol_padre)\n",
        "\thija2 = copy.deepcopy(sol_padre)\n",
        "\t# Extiende las soluciones hijas instanciando su siguiente variable indefinida\n",
        "    # Luego actualiza el indef_index de las hijas\n",
        "\tindex = hija1.indef_index\n",
        "\thija1.lista[index] = 0\n",
        "\thija2.lista[index] = 1\n",
        "\thija1.indef_index += 1\n",
        "\thija2.indef_index += 1\n",
        "\t# Actualiza tambien el valor y peso de las sol hija\n",
        "\thija1.valor += v\n",
        "\thija1.peso += w\n",
        "\thija1.ub = hija1.valor + ((k - hija1.peso) * best_ratio)\n",
        "\thija2.ub = hija2.valor + ((k - hija2.peso) * best_ratio)\n",
        "  # Devuelve las hijas como una lista\n",
        "\treturn [hija1, hija2]\n"
      ]
    },
    {
      "cell_type": "markdown",
      "metadata": {
        "id": "_Pb5KEnsVpg5"
      },
      "source": [
        "# Evaluacion del upperbound\n",
        "\n",
        "Determina `best_ratio`: el mejor ratio de entre los objetos que aun estan indefinidos.\n",
        "\n",
        "Estimado optimistamente, cada una de las unidades de peso pendientes de asignar, podria ser ocupada por el mejor ratio\n",
        "\n"
      ]
    },
    {
      "cell_type": "code",
      "execution_count": 27,
      "metadata": {
        "id": "9OQ9z7UoVp2o"
      },
      "outputs": [],
      "source": [
        "# Recibe como parametros a la solucion, y las variables que representan al problema\n",
        "def evaluate(ratios, hija, n, k):\n",
        "\tbest_ratio = 0\n",
        "\t# Encuentra el mejor ratio (el mayor) de entre los objetos por decidir (los que todavia son -1)\n",
        "\tfor i in range(hija.indef_index, n):\n",
        "\t\tif (ratios[i] > best_ratio):\n",
        "\t\t\tbest_ratio = ratios[i]\n",
        "\n",
        "  # El upperbound ub es el valor actual + peso restante * mejor ratio potencial\n",
        "\tub = hija.valor + ((k - hija.peso) * best_ratio)\n",
        "\n",
        "  # Devuelve el upperbound calculado\n",
        "\treturn ub"
      ]
    },
    {
      "cell_type": "markdown",
      "metadata": {
        "id": "1ZzCGoLiVsNg"
      },
      "source": [
        "# El problema\n",
        "\n",
        "Define el problema:\n",
        "* vector de valores `V`,\n",
        "* pesos `W`,\n",
        "* la capacidad `K`,\n",
        "* numero de objetos `n`\n",
        "* vector de ratios de valor/peso `R`"
      ]
    },
    {
      "cell_type": "code",
      "execution_count": 28,
      "metadata": {
        "id": "jOBBKW0GVx-Z"
      },
      "outputs": [],
      "source": [
        "\n",
        "#\tKnapsack\n",
        "#   Valores V, pesos W, capacidad K y ratios R\n",
        "#   Numero de objetos n\n",
        "V = [40, 42, 25, 12 ]\n",
        "W = [ 4,  7,  5,  3 ]\n",
        "K = 10\n",
        "n = len(V)\n",
        "\n",
        "R = [V[i]/W[i] for i in range(n)]"
      ]
    },
    {
      "cell_type": "markdown",
      "metadata": {
        "id": "ydqnxGVyWYy_"
      },
      "source": [
        "# Solucion inicial"
      ]
    },
    {
      "cell_type": "code",
      "execution_count": 29,
      "metadata": {
        "id": "AZ_AYMCLWgLm"
      },
      "outputs": [],
      "source": [
        "\n",
        "# Crea un objeto de la clase de la solucion inicial\n",
        "\n",
        "root_sol = Partial_Sol( n, K, max(R) )\n",
        "\n",
        "# Crea e inicializa la fila de prioridad\n",
        "# La fila de prioridad requiere un par ordenado de prioridad y objeto\n",
        "q = queue.PriorityQueue()\n",
        "q.put( (root_sol.ub, root_sol )   )\n",
        "\n",
        "# best_so_far guardara la mejor solucion completa encontrada hasta el momento\n",
        "best_so_far = copy.deepcopy( root_sol )\n"
      ]
    },
    {
      "cell_type": "markdown",
      "metadata": {
        "id": "zGENc3yNWwJ_"
      },
      "source": [
        "# El ciclo principal\n",
        "\n",
        "Mientras la fila de prioridad no este vacia:\n",
        "  * Extrae una `solucion padre`\n",
        "  * Si su estimacion de costo mas optimista (el `upperbound`) es peor que el costo real de la solucion `best_so_far`, se ignora\n",
        "  * Si no, la solucion padre tiene potencial. Crea a sus `hijas`.\n",
        "  * Por cada hija:\n",
        "    * Revisa si es una solucion completamente definida, mejor que `best_so_far`. De ser asi, actualizala\n",
        "    * Si no esta completamente definida, pero es valida y tiene potencial de mejorar a best_so_far, ingresa en la fila, con `-h.ub` como prioridad"
      ]
    },
    {
      "cell_type": "code",
      "execution_count": 30,
      "metadata": {
        "id": "shYWT-hEWyTD"
      },
      "outputs": [
        {
          "name": "stdout",
          "output_type": "stream",
          "text": [
            "ignorando\n",
            "ignorando\n"
          ]
        }
      ],
      "source": [
        "\n",
        "while not q.empty():\n",
        "  # Extrae una solucion padre de la fila\n",
        "  # Usa q.get()[1] para obtener el segundo elemento del par ordenado\n",
        "\tpartial_sol = q.get()[1]\n",
        "\n",
        "  # Si la solucion padre tiene un upperbound peor que el valor de best_so_far, se ignora\n",
        "\tif partial_sol.ub < best_so_far.valor:\n",
        "\t\tprint(\"ignorando\")\n",
        "\telse: \n",
        "\t# Si no, crea a sus hijas\n",
        "\t\ti = partial_sol.indef_index\n",
        "\n",
        "\t\thijas = extend(partial_sol, V[i], W[i], K, max(R))\n",
        "\n",
        "\t\t#\tPor cada hija\n",
        "\t\tfor h in hijas:\n",
        "\t\t\t# Evalua y asigna su upperbound\n",
        "\t\t\th.ub = evaluate(R, h, n, K)\n",
        "      # Revisa si la sol hija esta completa, y ademas es valida y mejor que best_so_far\n",
        "      # En ese caso, actualiza best_so_far con la sol hija\n",
        "\t\t\tif ((h.indef_index == n) and (h.peso <= K) and (h.valor > best_so_far.valor)):\n",
        "\t\t\t\tbest_so_far = copy.deepcopy(h)\n",
        "\t\t\t# Si la hija esta incompleta, es valida y su upperbound tiene el potencial\n",
        "\t\t\telif ((h.indef_index < n) and (h.peso < K) and (h.ub > best_so_far.valor)):\n",
        "\t\t\t\tq.put( ((-1)*(h.ub), h) )\n",
        "      # de mejorar a best_so_far, ingresa en la fila, con -upperbound como prioridad"
      ]
    },
    {
      "cell_type": "markdown",
      "metadata": {
        "id": "BdVAovMYdPXt"
      },
      "source": [
        "# Muestra el resultado de `best_so_far`"
      ]
    },
    {
      "cell_type": "code",
      "execution_count": 31,
      "metadata": {
        "id": "LPMIATdudTf7"
      },
      "outputs": [
        {
          "name": "stdout",
          "output_type": "stream",
          "text": [
            "\n",
            "La mejor sol: \n",
            "[0, 1, 0, 1] 65 9 65\n"
          ]
        }
      ],
      "source": [
        "print(\"\\nLa mejor sol: \")\n",
        "print(best_so_far.lista, best_so_far.valor, best_so_far.peso, best_so_far.ub)"
      ]
    }
  ],
  "metadata": {
    "colab": {
      "provenance": []
    },
    "kernelspec": {
      "display_name": ".venv",
      "language": "python",
      "name": "python3"
    },
    "language_info": {
      "codemirror_mode": {
        "name": "ipython",
        "version": 3
      },
      "file_extension": ".py",
      "mimetype": "text/x-python",
      "name": "python",
      "nbconvert_exporter": "python",
      "pygments_lexer": "ipython3",
      "version": "3.12.5"
    }
  },
  "nbformat": 4,
  "nbformat_minor": 0
}
