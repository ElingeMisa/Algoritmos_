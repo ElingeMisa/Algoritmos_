{
  "cells": [
    {
      "cell_type": "markdown",
      "metadata": {
        "id": "QnQzwKPlKoGQ"
      },
      "source": [
        "#Clase Nodo\n",
        "\n",
        "Atributos:\n",
        "* el caracter del nodo\n",
        "* lista de indices donde aparece\n",
        "* si es o no un nodo final\n",
        "* nivel\n",
        "* lista de nodos hijos"
      ]
    },
    {
      "cell_type": "code",
      "execution_count": 1,
      "metadata": {
        "id": "SMDPW-bVKhgK"
      },
      "outputs": [],
      "source": [
        "class Nodo:\n",
        "\tdef __init__ ( self, caracter, final ):\n",
        "\t\tself.caracter = caracter\n",
        "\t\tself.indices = []\n",
        "\t\tself.es_final = final\n",
        "\t\tself.level = 0\n",
        "\n",
        "\t\tself.hijos = []"
      ]
    },
    {
      "cell_type": "markdown",
      "metadata": {
        "id": "GMZussxWSDyh"
      },
      "source": [
        "#Clase Trie"
      ]
    },
    {
      "cell_type": "code",
      "execution_count": 2,
      "metadata": {
        "id": "ibEO6avfYQa0"
      },
      "outputs": [],
      "source": [
        "# la clase del arbol.\n",
        "# Su unico atributo es el nodo raiz\n",
        "class Trie:\n",
        "\tdef __init__ (self ):\n",
        "\t\t\tself.raiz = Nodo(\"#\", False)\n",
        "\t\t\t\t\t"
      ]
    },
    {
      "cell_type": "code",
      "execution_count": 3,
      "metadata": {
        "id": "FiLVFzxeR9Ai"
      },
      "outputs": [],
      "source": [
        "\n",
        "# Nota que esta funcion pertenece a la clase trie,\n",
        "# por ser una funcionalidad del arbol\n",
        "\n",
        "class Trie:    \n",
        "  def insertar(self, nodo, cadena, i, og_i):\n",
        "    m = len(cadena)\n",
        "        # Revisa si i es menor a la longuitud de la cadena....\n",
        "    if (i < m):\n",
        "        # Revisa si algun hijo del nodo actual coincide con el caracter indice actual\n",
        "        # De ser asi, agrega el indice real del caracter a los indices del nodo hijo\n",
        "        # Y crea una llamada recursiva nueva para el siguiente caracter\n",
        "        # a partir del hijo\n",
        "\n",
        "      for hijo in nodo.hijos:\n",
        "        \n",
        "        if hijo.caracter == cadena[i]:\n",
        "          \n",
        "          hijo.indices.append(i + og_i)\n",
        "          self.insertar(hijo, cadena, i+1, og_i)\n",
        "          \n",
        "          return\n",
        "            \n",
        "      # Si no hay coincidencias, crea un nuevo nodo hijo\n",
        "      hijo = Nodo(cadena[i], i == m-1)\n",
        "      hijo.level = nodo.level + 1\n",
        "      hijo.hijos.append(nuevo)\n",
        "      self.insertar(hijo, cadena, i+1, og_i)\n",
        "\n",
        "\n",
        "\n"
      ]
    },
    {
      "cell_type": "code",
      "execution_count": 4,
      "metadata": {
        "id": "2l7hSOXaYNVo"
      },
      "outputs": [],
      "source": [
        "\t# Version iterativa\n",
        "class Trie:\n",
        "  def insertar_iter(self, nodo, cadena, index):\n",
        "    m = len(cadena)\n",
        "    i = 0\n",
        "    while i < m:\n",
        "\n",
        "      for hijo in nodo.hijos:\n",
        "\n",
        "        if hijo.caracter == cadena[i]:\n",
        "\n",
        "          hijo.indices.append(i + index)\n",
        "          nodo = hijo\n",
        "          i += 1\n",
        "\n",
        "          break\n",
        "        else:\n",
        "          nuevo = Nodo(cadena[i], i == m-1)\n",
        "          nuevo.level = nodo.level + 1\n",
        "          nodo.hijos.append(nuevo)\n",
        "          nodo = nuevo\n",
        "      i += 1\n",
        "    # Iniciando en el nodo raiz...\n",
        "    # mientras los nodos hagan match con la cadena...\n",
        "    # agrega los indices a los nodos\n",
        "\n",
        "\n",
        "    # Si ya no hay coincidencias, y quedan caracteres en la cadena\n",
        "    # cointinua creando nodos nuevos para cada caracter pendiente..."
      ]
    },
    {
      "cell_type": "code",
      "execution_count": null,
      "metadata": {
        "id": "-AbxQ-MKXyoO"
      },
      "outputs": [],
      "source": [
        "\n",
        "  # Recorrido in order para mostrar el arbol\n",
        "  def show_inorder(self, nodo):\n",
        "\t\tprint(\"\\nSoy \", nodo.caracter, \"existo en: \", nodo.indices, \"final\", nodo.es_final, \" lvl:\", nodo.level )\n",
        "\t\tprint(\"\\tHijos\", [h.caracter for h in nodo.hijos ] )\n",
        "\n",
        "\t\tfor h in nodo.hijos:\n",
        "\t\t\tself.show_inorder(h)"
      ]
    },
    {
      "cell_type": "code",
      "execution_count": null,
      "metadata": {
        "id": "09Wvq_9bX1-0"
      },
      "outputs": [],
      "source": [
        "palabra = \"anabanana\"\n",
        "n = len(palabra)\n",
        "\n",
        "sufijos = [ palabra[i:] for i in range(n) ]\n",
        "print(sufijos)\n",
        "\n",
        "# Como puede mejorarse?\n",
        "\n",
        "trie = Trie()\n",
        "for i in range( len(sufijos) ):\n",
        "\ttrie.insertar(trie.raiz, sufijos[i], 0, i)\n",
        "\t#trie.insertar_iter(trie.raiz, sufijos[i], i)\n",
        "\n",
        "trie.show_inorder( trie.raiz )\n",
        "\n"
      ]
    },
    {
      "cell_type": "markdown",
      "metadata": {
        "id": "DjTlmbl6KmZd"
      },
      "source": []
    }
  ],
  "metadata": {
    "colab": {
      "provenance": []
    },
    "kernelspec": {
      "display_name": ".venv",
      "language": "python",
      "name": "python3"
    },
    "language_info": {
      "codemirror_mode": {
        "name": "ipython",
        "version": 3
      },
      "file_extension": ".py",
      "mimetype": "text/x-python",
      "name": "python",
      "nbconvert_exporter": "python",
      "pygments_lexer": "ipython3",
      "version": "3.12.5"
    }
  },
  "nbformat": 4,
  "nbformat_minor": 0
}
