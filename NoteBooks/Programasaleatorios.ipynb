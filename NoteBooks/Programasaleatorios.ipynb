{
 "cells": [
  {
   "cell_type": "markdown",
   "metadata": {},
   "source": [
    "# Actividad en clase\n",
    "Victor Misael Escalante Alvarado, A01741176"
   ]
  },
  {
   "cell_type": "code",
   "execution_count": 163,
   "metadata": {},
   "outputs": [],
   "source": [
    "import random"
   ]
  },
  {
   "cell_type": "markdown",
   "metadata": {},
   "source": [
    "### Leemos un archivo"
   ]
  },
  {
   "cell_type": "code",
   "execution_count": 164,
   "metadata": {},
   "outputs": [],
   "source": [
    "def read_file(file_name):\n",
    "    with open(file_name, 'r') as file:\n",
    "\n",
    "        next(file)  # ignore the first line\n",
    "        \n",
    "        '''\n",
    "        numero_nodos mejoir_solucion numero_aristas\n",
    "        '''\n",
    "        data = file.readline().split(\" \")\n",
    "        numero_nodos = int(data[0])\n",
    "        mejor_solucion = int(data[1])\n",
    "        numero_aristas = int(data[2])\n",
    "    \n",
    "        nodos = []\n",
    "        aristas = []\n",
    "\n",
    "        for i in range(numero_aristas):\n",
    "            data = file.readline().split(\" \")\n",
    "            aristas.append((int(data[0]), int(data[1])))\n",
    "\n",
    "        return numero_nodos, mejor_solucion, numero_aristas, aristas\n"
   ]
  },
  {
   "cell_type": "markdown",
   "metadata": {},
   "source": [
    "## Parte 1"
   ]
  },
  {
   "cell_type": "markdown",
   "metadata": {},
   "source": [
    "Programa un algoritmo random sampler para producir 1000 soluciones aleatorias del problema del bandwidth para ash85.txt"
   ]
  },
  {
   "cell_type": "markdown",
   "metadata": {},
   "source": [
    "### Random sampler de cada solucion"
   ]
  },
  {
   "cell_type": "code",
   "execution_count": 165,
   "metadata": {},
   "outputs": [],
   "source": [
    "def max_distancia(aristas, nodos):\n",
    "    \n",
    "    etiquetas = [0] * len(nodos)\n",
    "    \n",
    "    for i in range(len(nodos)):\n",
    "        etiquetas[nodos[i]] = i + 1\n",
    "\n",
    "    max_distancia = 0\n",
    "    for i in range(len(aristas)):\n",
    "        if aristas[i][0] < len(etiquetas) and aristas[i][1] < len(etiquetas):\n",
    "            max_distancia = max(max_distancia, abs(etiquetas[aristas[i][0]] - etiquetas[aristas[i][1]]))\n",
    "\n",
    "    return max_distancia\n",
    "\n",
    "def random_solution(aristas, numero_nodos):\n",
    "    \n",
    "    # ordenamos los nodos de manera aleatoria\n",
    "    solution = list(range(numero_nodos))\n",
    "    random.shuffle(solution)\n",
    "\n",
    "    distancia = max_distancia(aristas, solution)\n",
    "\n",
    "    return solution, distancia\n",
    "\n",
    "\n",
    "    "
   ]
  },
  {
   "cell_type": "markdown",
   "metadata": {},
   "source": [
    "### El codigo para las estadisticas"
   ]
  },
  {
   "cell_type": "code",
   "execution_count": 166,
   "metadata": {},
   "outputs": [
    {
     "name": "stdout",
     "output_type": "stream",
     "text": [
      "############################################\n",
      "Mejor distancia:  78\n",
      "Peor distancia:  84\n",
      "Distancia promecio:  80.6\n",
      "############################################\n"
     ]
    }
   ],
   "source": [
    "file_dir = \"/Users/misa_v/Library/CloudStorage/OneDrive-InstitutoTecnologicoydeEstudiosSuperioresdeMonterrey/Sem 5/Algoritmos_/Scripts/Python/txt/ash85.txt\"\n",
    "\n",
    "numero_nodos, mejor_solucion, numero_aristas, aristas = read_file(file_dir)\n",
    "\n",
    "num_iteraciones = 10\n",
    "\n",
    "distancias = []\n",
    "mejor_distancia = float('inf')\n",
    "peor_distancia = 0\n",
    "\n",
    "for i in range(num_iteraciones):\n",
    "    \n",
    "    solution, distancia = random_solution(aristas, numero_nodos)\n",
    "    if distancia < mejor_distancia:\n",
    "        mejor_distancia = distancia\n",
    "    if distancia > peor_distancia:\n",
    "        peor_distancia = distancia\n",
    "    distancias.append(distancia)\n",
    "\n",
    "print('############################################')\n",
    "print('Mejor distancia: ', mejor_distancia)\n",
    "print('Peor distancia: ', peor_distancia)\n",
    "print('Distancia promecio: ', sum(distancias) / len(distancias))\n",
    "print('############################################')"
   ]
  },
  {
   "cell_type": "markdown",
   "metadata": {},
   "source": [
    "## Psrte 2"
   ]
  },
  {
   "cell_type": "markdown",
   "metadata": {},
   "source": [
    "Crea un algoritmo que realice el random walk para el problema del bandwidth para ash85.txt .Ejecuta tu programa con 1000 iteraciones para cada ejecución. "
   ]
  },
  {
   "cell_type": "markdown",
   "metadata": {},
   "source": [
    "### Solucion inicial aleatoria"
   ]
  },
  {
   "cell_type": "code",
   "execution_count": 167,
   "metadata": {},
   "outputs": [],
   "source": [
    "random_sol_inicial, distancia_inicial = random_solution(aristas, numero_nodos)"
   ]
  },
  {
   "cell_type": "markdown",
   "metadata": {},
   "source": [
    "### Random walk"
   ]
  },
  {
   "cell_type": "code",
   "execution_count": 168,
   "metadata": {},
   "outputs": [],
   "source": [
    "# cambio con un solo nodo\n",
    "def swap(solution, i, j):\n",
    "    solution[i], solution[j] = solution[j], solution[i]\n",
    "    new_distance = max_distancia(aristas, solution)\n",
    "    return solution, new_distance\n",
    "\n",
    "def local_search(solution, aristas, max_iteraciones):\n",
    "    best_distance = max_distancia(aristas, solution)\n",
    "    worst_distance = 0\n",
    "\n",
    "    all_distances = []\n",
    "    best_solution = solution\n",
    "\n",
    "    for i in range(max_iteraciones):\n",
    "\n",
    "        # seleccionamos dos nodos aleatorios para hacer el swap\n",
    "            i, j = random.sample(range(len(solution)), 2)\n",
    "            new_solution, new_distance = swap(solution[:], i, j)\n",
    "\n",
    "            if new_distance < best_distance:\n",
    "                best_distance = new_distance\n",
    "                best_solution = new_solution\n",
    "\n",
    "            if new_distance > worst_distance:\n",
    "                worst_distance = new_distance\n",
    "            \n",
    "            all_distances.append(new_distance)\n",
    "            solution = new_solution\n",
    "            \n",
    "\n",
    "    return best_solution, best_distance , all_distances , worst_distance "
   ]
  },
  {
   "cell_type": "markdown",
   "metadata": {},
   "source": [
    "### Codigo normal"
   ]
  },
  {
   "cell_type": "code",
   "execution_count": 169,
   "metadata": {},
   "outputs": [
    {
     "name": "stdout",
     "output_type": "stream",
     "text": [
      "############################################\n",
      "Mejor distancia:  77\n",
      "Peor distancia:  77\n",
      "Distancia promecio:  77.0\n",
      "############################################\n"
     ]
    }
   ],
   "source": [
    "absolut_solution = []\n",
    "absolut_distance = float('inf')\n",
    "all_distance = []\n",
    "worst_distance = 0\n",
    "\n",
    "for i in range(1):\n",
    "    final_solution, final_distance, all_distan, worst = local_search(random_sol_inicial, aristas, 10)\n",
    "    if final_distance < absolut_distance:\n",
    "        absolut_distance = final_distance\n",
    "        absolut_solution = final_solution\n",
    "    \n",
    "    if worst > worst_distance:\n",
    "        worst_distance = worst\n",
    "    \n",
    "    all_distance.extend(all_distan)\n",
    "\n",
    "print('############################################')\n",
    "print('Mejor distancia: ', absolut_distance)\n",
    "print('Peor distancia: ', worst_distance)\n",
    "print('Distancia promecio: ', sum(all_distance) / len(all_distance))\n",
    "print('############################################')"
   ]
  }
 ],
 "metadata": {
  "kernelspec": {
   "display_name": ".venv",
   "language": "python",
   "name": "python3"
  },
  "language_info": {
   "codemirror_mode": {
    "name": "ipython",
    "version": 3
   },
   "file_extension": ".py",
   "mimetype": "text/x-python",
   "name": "python",
   "nbconvert_exporter": "python",
   "pygments_lexer": "ipython3",
   "version": "3.12.5"
  }
 },
 "nbformat": 4,
 "nbformat_minor": 2
}
