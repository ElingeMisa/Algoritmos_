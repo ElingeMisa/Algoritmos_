{
 "cells": [
  {
   "cell_type": "markdown",
   "metadata": {
    "id": "UfKeWeLdy4A3"
   },
   "source": [
    "# 5.2 Local Search y optimizacion\n",
    "**Vctor misael Escalante Alvarado**"
   ]
  },
  {
   "cell_type": "markdown",
   "metadata": {
    "id": "f4WZu2rPy4ZP"
   },
   "source": [
    "### Librerias necesarias"
   ]
  },
  {
   "cell_type": "code",
   "execution_count": 1,
   "metadata": {},
   "outputs": [],
   "source": [
    "import numpy as np\n",
    "import random\n",
    "import matplotlib.pyplot as plt"
   ]
  },
  {
   "cell_type": "markdown",
   "metadata": {},
   "source": [
    "### Lectura de Instancias"
   ]
  },
  {
   "cell_type": "code",
   "execution_count": null,
   "metadata": {},
   "outputs": [],
   "source": [
    "# Aqui va la lectura del grafo\n",
    "def leer_grafo(filepath):\n",
    "    with open(filepath, 'r') as f:\n",
    "        lines = f.readlines()\n",
    "\n",
    "    # Ignorar encabezados y espacios vacíos\n",
    "    datos_grafo = [line.strip() for line in lines if line.strip() and not line.startswith(\"Nombre\")]\n",
    "\n",
    "    # Ignoramos la primera línea\n",
    "    total_nodos, mejor_resultado, total_aristas = map(int, datos_grafo[0].split())\n",
    "\n",
    "    lista_conexiones = [tuple(map(int, line.split())) for line in datos_grafo[1:]]\n",
    "\n",
    "    # Identificar todos los nodos únicos\n",
    "    conjunto_nodos = sorted(set(u for edge in lista_conexiones for u in edge))\n",
    "\n",
    "    return conjunto_nodos, mejor_resultado, total_aristas, lista_conexiones\n"
   ]
  },
  {
   "cell_type": "markdown",
   "metadata": {},
   "source": [
    "### Resultados en archivos"
   ]
  },
  {
   "cell_type": "code",
   "execution_count": null,
   "metadata": {},
   "outputs": [],
   "source": [
    "#  guarda las solucinoes en archivos (tienen el mismo nombre porque luego se hacen 50 en el colab y truena)\n",
    "\n",
    "def partialtofile(archivo_name, cost):\n",
    "    with open(archivo_name, 'a') as file:\n",
    "        file.write(f\"{cost}\\n\")\n",
    "\n",
    "def savetofile(instance, algorithm_name, costs):\n",
    "    archivo_name = f\"{instance}_{algorithm_name}_results.txt\"\n",
    "    with open(archivo_name, 'w') as file:\n",
    "        file.write(\"\\n\".join(map(str, costs)))\n",
    "    print(f\"Resultados guardados en {archivo_name}\")\n",
    "\n",
    "def read_val(archivo_name):\n",
    "\n",
    "    with open(archivo_name, 'r') as file:\n",
    "        return [float(line.strip()) for line in file.readlines()]"
   ]
  },
  {
   "cell_type": "markdown",
   "metadata": {},
   "source": [
    "### Algoritmos aleatorios"
   ]
  },
  {
   "cell_type": "markdown",
   "metadata": {},
   "source": [
    "#### Funcion objetivo (reciclada)"
   ]
  },
  {
   "cell_type": "code",
   "execution_count": null,
   "metadata": {},
   "outputs": [],
   "source": [
    "# La función del objetivo\n",
    "def obj(sol, conexiones, nodos):\n",
    "    posiciones = {nodo: sol.index(nodo) for nodo in nodos}  # Mapeo nodo -> posición\n",
    "    return max(abs(posiciones[u] - posiciones[v]) for u, v in conexiones)"
   ]
  },
  {
   "cell_type": "markdown",
   "metadata": {},
   "source": [
    "#### Funciones para visitar el vecindario FI y BI"
   ]
  },
  {
   "cell_type": "code",
   "execution_count": 27,
   "metadata": {},
   "outputs": [],
   "source": [
    "\n",
    "def vecindarioFI(sol, cost_function):\n",
    "    size = len(sol)\n",
    "    # Orden aleatorio de nodos\n",
    "    order = np.random.permutation(size)  \n",
    "\n",
    "    for i in order:\n",
    "\n",
    "        for j in order:\n",
    "\n",
    "            if i != j:\n",
    "\n",
    "                neighbor = sol[:]\n",
    "                neighbor[i], neighbor[j] = neighbor[j], neighbor[i] \n",
    "\n",
    "                if cost_function(neighbor) < cost_function(sol):\n",
    "\n",
    "                    return neighbor\n",
    "    return sol\n",
    "\n",
    "def vecindarioBI(sol, cost_function):\n",
    "\n",
    "    size = len(sol)\n",
    "    order = np.random.permutation(size)\n",
    "    best_neighbor = sol[:]\n",
    "    best_cost = cost_function(sol)\n",
    "\n",
    "    for i in order:\n",
    "\n",
    "        for j in order:\n",
    "\n",
    "            if i != j:\n",
    "\n",
    "                neighbor = sol[:]\n",
    "                neighbor[i], neighbor[j] = neighbor[j], neighbor[i]\n",
    "                neighbor_cost = cost_function(neighbor)\n",
    "\n",
    "                if neighbor_cost < best_cost:\n",
    "\n",
    "                    best_neighbor = neighbor\n",
    "                    best_cost = neighbor_cost\n",
    "\n",
    "    return best_neighbor"
   ]
  },
  {
   "cell_type": "markdown",
   "metadata": {},
   "source": [
    "#### Hill Climber"
   ]
  },
  {
   "cell_type": "code",
   "execution_count": null,
   "metadata": {},
   "outputs": [],
   "source": [
    "def hill_climber(conexiones, nodos, steps, evaluations_limit, improvement_type):\n",
    "    # Generar una permutación inicial de nodos\n",
    "    sol_actual = nodos[:]\n",
    "    random.shuffle(sol_actual)\n",
    "    current_cost = obj(sol_actual, conexiones, nodos)\n",
    "    evaluations = 0\n",
    "\n",
    "    for _ in range(steps):\n",
    "        if evaluations >= evaluations_limit:\n",
    "            break\n",
    "\n",
    "        if improvement_type == \"firstImprovement\":\n",
    "            nueva_solucion = vecindarioFI(sol_actual, lambda s: obj(s, conexiones, nodos))\n",
    "        elif improvement_type == \"bestImprovement\":\n",
    "            nueva_solucion = vecindarioBI(sol_actual, lambda s: obj(s, conexiones, nodos))\n",
    "\n",
    "        nuevo_costo = obj(nueva_solucion, conexiones, nodos)\n",
    "        evaluations += 1\n",
    "\n",
    "        if nuevo_costo < current_cost:\n",
    "            sol_actual = nueva_solucion\n",
    "            current_cost = nuevo_costo\n",
    "        else:\n",
    "            break  # Óptimo local\n",
    "    return current_cost"
   ]
  },
  {
   "cell_type": "markdown",
   "metadata": {},
   "source": [
    "#### Funcion para Iteerated Local Search"
   ]
  },
  {
   "cell_type": "code",
   "execution_count": null,
   "metadata": {},
   "outputs": [],
   "source": [
    "def ils(conexiones, nodos, evaluations_limit):\n",
    "    def perturb(sol):\n",
    "        i, j = random.sample(range(len(sol)), 2)\n",
    "        sol[i], sol[j] = sol[j], sol[i]\n",
    "        return sol\n",
    "\n",
    "    # Inicialización\n",
    "    solucion_actual = nodos[:]\n",
    "    random.shuffle(solucion_actual)\n",
    "    best_sol = solucion_actual[:]\n",
    "    best_cost = obj(solucion_actual, conexiones, nodos)\n",
    "    evaluations = 1\n",
    "\n",
    "    while evaluations < evaluations_limit:\n",
    "        # Perturbar y mejorar\n",
    "        nueva_solucion = perturb(solucion_actual[:])\n",
    "        nueva_solucion = vecindarioFI(nueva_solucion, lambda s: obj(s, conexiones, nodos))\n",
    "        nuevo_costo = obj(nueva_solucion, conexiones, nodos)\n",
    "        evaluations += 1\n",
    "\n",
    "        # Aceptar si es mejor o no\n",
    "        if nuevo_costo < best_cost:\n",
    "            best_sol = nueva_solucion[:]\n",
    "            best_cost = nuevo_costo\n",
    "        solucion_actual = nueva_solucion[:]\n",
    "\n",
    "    return best_cost"
   ]
  },
  {
   "cell_type": "markdown",
   "metadata": {},
   "source": [
    "#### Funcion para Simulated"
   ]
  },
  {
   "cell_type": "code",
   "execution_count": null,
   "metadata": {},
   "outputs": [],
   "source": [
    "def sa(conexiones, nodos, evaluations_limit, t_initial=100.0, alpha=0.99):\n",
    "    # Iniciarlo\n",
    "    sol = nodos[:]\n",
    "    random.shuffle(sol)\n",
    "    best_sol = sol[:]\n",
    "    best_cost = obj(sol, conexiones, nodos)\n",
    "    current_cost = best_cost\n",
    "    T = t_initial\n",
    "    evaluations = 1\n",
    "\n",
    "    while evaluations < evaluations_limit and T > 1e-4:\n",
    "        # Generar vecino al azar\n",
    "        neighbor = sol[:]\n",
    "        i, j = random.sample(range(len(sol)), 2)\n",
    "        neighbor[i], neighbor[j] = neighbor[j], neighbor[i]\n",
    "        neighbor_cost = obj(neighbor, conexiones, nodos)\n",
    "        evaluations += 1\n",
    "\n",
    "        # Aceptar vecino basado en la temperatura\n",
    "        if neighbor_cost < current_cost or random.random() < np.exp((current_cost - neighbor_cost) / T):\n",
    "            sol = neighbor[:]\n",
    "            current_cost = neighbor_cost\n",
    "\n",
    "        # Actualizar mejor solución\n",
    "        if current_cost < best_cost:\n",
    "            best_sol = sol[:]\n",
    "            best_cost = current_cost\n",
    "\n",
    "        # Enfriar\n",
    "        T *= alpha\n",
    "    return best_cost"
   ]
  },
  {
   "cell_type": "markdown",
   "metadata": {},
   "source": [
    "#### Funcion para calcular el RMSE"
   ]
  },
  {
   "cell_type": "code",
   "execution_count": 10,
   "metadata": {
    "id": "DOwT81apvpz_"
   },
   "outputs": [],
   "source": [
    "\n",
    "def calculate_rmse_individual(values, target_value):\n",
    "    #Calcula el RMSE para cada valor individual con el objetivo\n",
    "    return [np.sqrt((value - target_value) ** 2) for value in values]\n"
   ]
  },
  {
   "cell_type": "markdown",
   "metadata": {
    "id": "q-hBsxTsz7uE"
   },
   "source": [
    "### Ejecucion de algoritmos aleatorios"
   ]
  },
  {
   "cell_type": "code",
   "execution_count": null,
   "metadata": {
    "colab": {
     "base_uri": "https://localhost:8080/"
    },
    "id": "yxFy61I8z67i",
    "outputId": "1b432185-aefe-4b55-fd31-79ef474de94a"
   },
   "outputs": [],
   "source": [
    "#Ejecucion y guardar los grafos\n",
    "\n",
    "# Parámetros\n",
    "prefix = \"/Users/misa_v/Library/CloudStorage/OneDrive-InstitutoTecnologicoydeEstudiosSuperioresdeMonterrey/Sem 5/Algoritmos_/Scripts/Python/txt/\"\n",
    "# Para ejecutar quitar el prefix\n",
    "instances = [prefix + \"bcspwr02.txt\"]\n",
    "evaluations_limit = 100000\n",
    "\n",
    "# Algoritmos con nombres , funciones y numero de ejecuciones\n",
    "algorithms = {\n",
    "    \"HillClimber-FI\": lambda conexiones, nodos, limit: hill_climber(conexiones, nodos, 250, limit, \"firstImprovement\"),\n",
    "    \"HillClimber-BI\": lambda conexiones, nodos, limit: hill_climber(conexiones, nodos, 250, limit, \"bestImprovement\"),\n",
    "    \"ILS\": ils,\n",
    "    \"SA\": sa\n",
    "}\n",
    "num_executions = 50"
   ]
  },
  {
   "cell_type": "code",
   "execution_count": null,
   "metadata": {},
   "outputs": [
    {
     "name": "stdout",
     "output_type": "stream",
     "text": [
      "Procesando instancia: /Users/misa_v/Library/CloudStorage/OneDrive-InstitutoTecnologicoydeEstudiosSuperioresdeMonterrey/Sem 5/Algoritmos_/Scripts/Python/txt/bcspwr02.txt\n",
      "  Ejecutando algoritmo: HillClimber-FirstImprovement\n",
      "  Ejecutando algoritmo: HillClimber-BestImprovement\n",
      "  Ejecutando algoritmo: ILS\n",
      "  Ejecutando algoritmo: SA\n",
      "Procesamiento completo\n"
     ]
    }
   ],
   "source": [
    "# Almacenar resultados\n",
    "# Tarda como 8 minutos en ejecutarse\n",
    "all_results = {instance: {algo: [] for algo in algorithms} for instance in instances}\n",
    "\n",
    "for instance in instances:\n",
    "    print(f\"Procesando: {instance}\")\n",
    "    nodos, target_value, num_aristas, conexiones = leer_grafo(instance)\n",
    "\n",
    "    for algo_name, algo_func in algorithms.items():\n",
    "        print(f\"  Ejecutando: {algo_name}\")\n",
    "        filename = f\"{instance}_{algo_name}_results.txt\"\n",
    "\n",
    "        # Limpiar archivo anterior si existe\n",
    "        open(filename, 'w').close()\n",
    "\n",
    "        for _ in range(num_executions):\n",
    "            cost = algo_func(conexiones, nodos, evaluations_limit)\n",
    "\n",
    "            # Guardar en el archivo de resultados\n",
    "            partialtofile(filename, cost)\n",
    "\n",
    "            # También guardar en memoria\n",
    "            all_results[instance][algo_name].append(cost)\n",
    "\n",
    "print(\"Procesamiento completo\")"
   ]
  },
  {
   "cell_type": "markdown",
   "metadata": {
    "id": "jp8qTDqiz7Xy"
   },
   "source": [
    "### Graficas de resultados"
   ]
  },
  {
   "cell_type": "code",
   "execution_count": null,
   "metadata": {
    "id": "FY4ZMiBMzvpU"
   },
   "outputs": [
    {
     "name": "stderr",
     "output_type": "stream",
     "text": [
      "/var/folders/z0/7b80dzz146l5xhvtr9h3j12c0000gn/T/ipykernel_47298/569083320.py:36: MatplotlibDeprecationWarning: The 'labels' parameter of boxplot() has been renamed 'tick_labels' since Matplotlib 3.9; support for the old name will be dropped in 3.11.\n",
      "  plt.boxplot(data, labels=[\"HillClimber con FI\", \"HillClimber con BIm\", \"ILS\", \"SA\"])\n"
     ]
    },
    {
     "data": {
      "image/png": "[encoded data removed]",
      "text/plain": [
       "<Figure size 800x600 with 1 Axes>"
      ]
     },
     "metadata": {},
     "output_type": "display_data"
    }
   ],
   "source": [
    "#Los calculos de RMSE en de los archivos\n",
    "\n",
    "instances = [prefix + \"bcspwr02.txt\"]\n",
    "algorithms = [\"HillClimber-FirstImprovement\", \"HillClimber-BestImprovement\", \"ILS\", \"SA\"]\n",
    "\n",
    "# Estructura para almacenar los RMSE individualmente\n",
    "rmse_data = {instance: {algo_name: [] for algo_name in algorithms} for instance in instances}\n",
    "\n",
    "for instance in instances:\n",
    "    # Leer los objectivos de lo sarchivos\n",
    "    _, target_value, _, _ = leer_grafo(instance)\n",
    "\n",
    "    for algo_name in algorithms:\n",
    "        # Leer los resultados desde el archivo correspondiente\n",
    "        result_filename = f\"{instance}_{algo_name}_results.txt\"\n",
    "        costs = read_val(result_filename)\n",
    "\n",
    "        # Calcular RMSE individuales y almacenarlos\n",
    "        rmse_values = calculate_rmse_individual(costs, target_value)\n",
    "        rmse_data[instance][algo_name] = rmse_values\n",
    "\n",
    "#Aqui se hacen los grafos\n",
    "for instance in instances:\n",
    "    # Preparar los datos para el gráfico\n",
    "    data = []\n",
    "    labels = []\n",
    "\n",
    "    for algo_name in algorithms:\n",
    "        # Obtener la lista de RMSE para cada algoritmo\n",
    "        rmse_values = rmse_data[instance][algo_name]\n",
    "        data.append(rmse_values)  # Matplotlib espera listas anidadas\n",
    "        labels.append(algo_name)\n",
    "\n",
    "    # Crear el boxplot para las comparaciones\n",
    "    plt.figure(figsize=(8,6))\n",
    "    plt.boxplot(data, labels=[\"HillClimber con FI\", \"HillClimber con BIm\", \"ILS\", \"SA\"])  \n",
    "    plt.title(f\"Comparación de RMSE con los algoritmo para la instancia\")\n",
    "    plt.ylabel(\"RMSE\")\n",
    "    plt.grid()\n",
    "    plt.show()"
   ]
  }
 ],
 "metadata": {
  "colab": {
   "provenance": []
  },
  "kernelspec": {
   "display_name": ".venv",
   "language": "python",
   "name": "python3"
  },
  "language_info": {
   "codemirror_mode": {
    "name": "ipython",
    "version": 3
   },
   "file_extension": ".py",
   "mimetype": "text/x-python",
   "name": "python",
   "nbconvert_exporter": "python",
   "pygments_lexer": "ipython3",
   "version": "3.12.5"
  }
 },
 "nbformat": 4,
 "nbformat_minor": 0
}
